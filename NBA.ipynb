{
 "cells": [
  {
   "cell_type": "code",
   "execution_count": 1,
   "metadata": {},
   "outputs": [],
   "source": [
    "import pandas as pd\n",
    "import numpy as np\n",
    "import matplotlib as mat\n",
    "import matplotlib.pyplot as plt\n",
    "import matplotlib.pylab as pylab\n",
    "import seaborn as sns\n",
    "import scipy.stats as stats\n",
    "from sklearn.model_selection import train_test_split\n",
    "from sklearn import linear_model\n",
    "from sklearn.metrics import classification_report\n",
    "from sklearn.metrics import mean_squared_error\n",
    "from sklearn.preprocessing import PowerTransformer\n",
    "from sklearn.preprocessing import PolynomialFeatures\n",
    "import operator"
   ]
  },
  {
   "cell_type": "code",
   "execution_count": 2,
   "metadata": {},
   "outputs": [
    {
     "data": {
      "text/html": [
       "<div>\n",
       "<style scoped>\n",
       "    .dataframe tbody tr th:only-of-type {\n",
       "        vertical-align: middle;\n",
       "    }\n",
       "\n",
       "    .dataframe tbody tr th {\n",
       "        vertical-align: top;\n",
       "    }\n",
       "\n",
       "    .dataframe thead th {\n",
       "        text-align: right;\n",
       "    }\n",
       "</style>\n",
       "<table border=\"1\" class=\"dataframe\">\n",
       "  <thead>\n",
       "    <tr style=\"text-align: right;\">\n",
       "      <th></th>\n",
       "      <th>Player</th>\n",
       "      <th>Pos</th>\n",
       "      <th>Age</th>\n",
       "      <th>Tm</th>\n",
       "      <th>G</th>\n",
       "      <th>GS</th>\n",
       "      <th>MP</th>\n",
       "      <th>FG</th>\n",
       "      <th>FGA</th>\n",
       "      <th>FG%</th>\n",
       "      <th>...</th>\n",
       "      <th>FT%</th>\n",
       "      <th>ORB</th>\n",
       "      <th>DRB</th>\n",
       "      <th>TRB</th>\n",
       "      <th>AST</th>\n",
       "      <th>STL</th>\n",
       "      <th>BLK</th>\n",
       "      <th>TOV</th>\n",
       "      <th>PF</th>\n",
       "      <th>PTS</th>\n",
       "    </tr>\n",
       "    <tr>\n",
       "      <th>Rk</th>\n",
       "      <th></th>\n",
       "      <th></th>\n",
       "      <th></th>\n",
       "      <th></th>\n",
       "      <th></th>\n",
       "      <th></th>\n",
       "      <th></th>\n",
       "      <th></th>\n",
       "      <th></th>\n",
       "      <th></th>\n",
       "      <th></th>\n",
       "      <th></th>\n",
       "      <th></th>\n",
       "      <th></th>\n",
       "      <th></th>\n",
       "      <th></th>\n",
       "      <th></th>\n",
       "      <th></th>\n",
       "      <th></th>\n",
       "      <th></th>\n",
       "      <th></th>\n",
       "    </tr>\n",
       "  </thead>\n",
       "  <tbody>\n",
       "    <tr>\n",
       "      <th>1</th>\n",
       "      <td>Precious Achiuwa</td>\n",
       "      <td>C</td>\n",
       "      <td>22</td>\n",
       "      <td>TOR</td>\n",
       "      <td>48</td>\n",
       "      <td>23</td>\n",
       "      <td>23.1</td>\n",
       "      <td>3.1</td>\n",
       "      <td>7.3</td>\n",
       "      <td>0.423</td>\n",
       "      <td>...</td>\n",
       "      <td>0.579</td>\n",
       "      <td>2.2</td>\n",
       "      <td>4.7</td>\n",
       "      <td>6.9</td>\n",
       "      <td>1.1</td>\n",
       "      <td>0.5</td>\n",
       "      <td>0.6</td>\n",
       "      <td>1.0</td>\n",
       "      <td>2.0</td>\n",
       "      <td>7.5</td>\n",
       "    </tr>\n",
       "    <tr>\n",
       "      <th>2</th>\n",
       "      <td>Steven Adams</td>\n",
       "      <td>C</td>\n",
       "      <td>28</td>\n",
       "      <td>MEM</td>\n",
       "      <td>56</td>\n",
       "      <td>55</td>\n",
       "      <td>26.1</td>\n",
       "      <td>2.8</td>\n",
       "      <td>5.0</td>\n",
       "      <td>0.546</td>\n",
       "      <td>...</td>\n",
       "      <td>0.556</td>\n",
       "      <td>4.5</td>\n",
       "      <td>5.1</td>\n",
       "      <td>9.6</td>\n",
       "      <td>3.2</td>\n",
       "      <td>0.9</td>\n",
       "      <td>0.7</td>\n",
       "      <td>1.6</td>\n",
       "      <td>1.9</td>\n",
       "      <td>7.0</td>\n",
       "    </tr>\n",
       "    <tr>\n",
       "      <th>3</th>\n",
       "      <td>Bam Adebayo</td>\n",
       "      <td>C</td>\n",
       "      <td>24</td>\n",
       "      <td>MIA</td>\n",
       "      <td>33</td>\n",
       "      <td>33</td>\n",
       "      <td>33.0</td>\n",
       "      <td>7.2</td>\n",
       "      <td>13.6</td>\n",
       "      <td>0.527</td>\n",
       "      <td>...</td>\n",
       "      <td>0.764</td>\n",
       "      <td>2.8</td>\n",
       "      <td>7.4</td>\n",
       "      <td>10.2</td>\n",
       "      <td>3.5</td>\n",
       "      <td>1.5</td>\n",
       "      <td>0.6</td>\n",
       "      <td>2.9</td>\n",
       "      <td>3.2</td>\n",
       "      <td>18.7</td>\n",
       "    </tr>\n",
       "    <tr>\n",
       "      <th>4</th>\n",
       "      <td>Santi Aldama</td>\n",
       "      <td>PF</td>\n",
       "      <td>21</td>\n",
       "      <td>MEM</td>\n",
       "      <td>27</td>\n",
       "      <td>0</td>\n",
       "      <td>10.3</td>\n",
       "      <td>1.4</td>\n",
       "      <td>3.6</td>\n",
       "      <td>0.381</td>\n",
       "      <td>...</td>\n",
       "      <td>0.600</td>\n",
       "      <td>0.9</td>\n",
       "      <td>1.5</td>\n",
       "      <td>2.4</td>\n",
       "      <td>0.5</td>\n",
       "      <td>0.1</td>\n",
       "      <td>0.3</td>\n",
       "      <td>0.3</td>\n",
       "      <td>1.0</td>\n",
       "      <td>3.3</td>\n",
       "    </tr>\n",
       "    <tr>\n",
       "      <th>5</th>\n",
       "      <td>LaMarcus Aldridge</td>\n",
       "      <td>C</td>\n",
       "      <td>36</td>\n",
       "      <td>BRK</td>\n",
       "      <td>38</td>\n",
       "      <td>11</td>\n",
       "      <td>22.8</td>\n",
       "      <td>5.8</td>\n",
       "      <td>10.5</td>\n",
       "      <td>0.558</td>\n",
       "      <td>...</td>\n",
       "      <td>0.844</td>\n",
       "      <td>1.6</td>\n",
       "      <td>4.2</td>\n",
       "      <td>5.8</td>\n",
       "      <td>0.8</td>\n",
       "      <td>0.3</td>\n",
       "      <td>1.1</td>\n",
       "      <td>1.0</td>\n",
       "      <td>1.7</td>\n",
       "      <td>13.7</td>\n",
       "    </tr>\n",
       "    <tr>\n",
       "      <th>6</th>\n",
       "      <td>Nickeil Alexander-Walker</td>\n",
       "      <td>SG</td>\n",
       "      <td>23</td>\n",
       "      <td>TOT</td>\n",
       "      <td>52</td>\n",
       "      <td>19</td>\n",
       "      <td>25.4</td>\n",
       "      <td>4.6</td>\n",
       "      <td>12.2</td>\n",
       "      <td>0.374</td>\n",
       "      <td>...</td>\n",
       "      <td>0.722</td>\n",
       "      <td>0.7</td>\n",
       "      <td>2.5</td>\n",
       "      <td>3.2</td>\n",
       "      <td>2.7</td>\n",
       "      <td>0.8</td>\n",
       "      <td>0.4</td>\n",
       "      <td>1.6</td>\n",
       "      <td>1.7</td>\n",
       "      <td>12.3</td>\n",
       "    </tr>\n",
       "    <tr>\n",
       "      <th>6</th>\n",
       "      <td>Nickeil Alexander-Walker</td>\n",
       "      <td>SG</td>\n",
       "      <td>23</td>\n",
       "      <td>NOP</td>\n",
       "      <td>50</td>\n",
       "      <td>19</td>\n",
       "      <td>26.3</td>\n",
       "      <td>4.7</td>\n",
       "      <td>12.6</td>\n",
       "      <td>0.375</td>\n",
       "      <td>...</td>\n",
       "      <td>0.722</td>\n",
       "      <td>0.7</td>\n",
       "      <td>2.6</td>\n",
       "      <td>3.3</td>\n",
       "      <td>2.8</td>\n",
       "      <td>0.8</td>\n",
       "      <td>0.4</td>\n",
       "      <td>1.7</td>\n",
       "      <td>1.8</td>\n",
       "      <td>12.8</td>\n",
       "    </tr>\n",
       "    <tr>\n",
       "      <th>6</th>\n",
       "      <td>Nickeil Alexander-Walker</td>\n",
       "      <td>SG</td>\n",
       "      <td>23</td>\n",
       "      <td>UTA</td>\n",
       "      <td>2</td>\n",
       "      <td>0</td>\n",
       "      <td>2.5</td>\n",
       "      <td>0.0</td>\n",
       "      <td>0.5</td>\n",
       "      <td>0.000</td>\n",
       "      <td>...</td>\n",
       "      <td>0.000</td>\n",
       "      <td>0.0</td>\n",
       "      <td>0.5</td>\n",
       "      <td>0.5</td>\n",
       "      <td>0.0</td>\n",
       "      <td>0.0</td>\n",
       "      <td>0.0</td>\n",
       "      <td>0.0</td>\n",
       "      <td>0.0</td>\n",
       "      <td>0.0</td>\n",
       "    </tr>\n",
       "    <tr>\n",
       "      <th>7</th>\n",
       "      <td>Grayson Allen</td>\n",
       "      <td>SG</td>\n",
       "      <td>26</td>\n",
       "      <td>MIL</td>\n",
       "      <td>49</td>\n",
       "      <td>48</td>\n",
       "      <td>28.0</td>\n",
       "      <td>4.0</td>\n",
       "      <td>9.4</td>\n",
       "      <td>0.425</td>\n",
       "      <td>...</td>\n",
       "      <td>0.857</td>\n",
       "      <td>0.5</td>\n",
       "      <td>2.9</td>\n",
       "      <td>3.4</td>\n",
       "      <td>1.5</td>\n",
       "      <td>0.8</td>\n",
       "      <td>0.3</td>\n",
       "      <td>0.6</td>\n",
       "      <td>1.4</td>\n",
       "      <td>11.5</td>\n",
       "    </tr>\n",
       "  </tbody>\n",
       "</table>\n",
       "<p>9 rows × 29 columns</p>\n",
       "</div>"
      ],
      "text/plain": [
       "                      Player Pos  Age   Tm   G  GS    MP   FG   FGA    FG%  \\\n",
       "Rk                                                                           \n",
       "1           Precious Achiuwa   C   22  TOR  48  23  23.1  3.1   7.3  0.423   \n",
       "2               Steven Adams   C   28  MEM  56  55  26.1  2.8   5.0  0.546   \n",
       "3                Bam Adebayo   C   24  MIA  33  33  33.0  7.2  13.6  0.527   \n",
       "4               Santi Aldama  PF   21  MEM  27   0  10.3  1.4   3.6  0.381   \n",
       "5          LaMarcus Aldridge   C   36  BRK  38  11  22.8  5.8  10.5  0.558   \n",
       "6   Nickeil Alexander-Walker  SG   23  TOT  52  19  25.4  4.6  12.2  0.374   \n",
       "6   Nickeil Alexander-Walker  SG   23  NOP  50  19  26.3  4.7  12.6  0.375   \n",
       "6   Nickeil Alexander-Walker  SG   23  UTA   2   0   2.5  0.0   0.5  0.000   \n",
       "7              Grayson Allen  SG   26  MIL  49  48  28.0  4.0   9.4  0.425   \n",
       "\n",
       "    ...    FT%  ORB  DRB   TRB  AST  STL  BLK  TOV   PF   PTS  \n",
       "Rk  ...                                                        \n",
       "1   ...  0.579  2.2  4.7   6.9  1.1  0.5  0.6  1.0  2.0   7.5  \n",
       "2   ...  0.556  4.5  5.1   9.6  3.2  0.9  0.7  1.6  1.9   7.0  \n",
       "3   ...  0.764  2.8  7.4  10.2  3.5  1.5  0.6  2.9  3.2  18.7  \n",
       "4   ...  0.600  0.9  1.5   2.4  0.5  0.1  0.3  0.3  1.0   3.3  \n",
       "5   ...  0.844  1.6  4.2   5.8  0.8  0.3  1.1  1.0  1.7  13.7  \n",
       "6   ...  0.722  0.7  2.5   3.2  2.7  0.8  0.4  1.6  1.7  12.3  \n",
       "6   ...  0.722  0.7  2.6   3.3  2.8  0.8  0.4  1.7  1.8  12.8  \n",
       "6   ...  0.000  0.0  0.5   0.5  0.0  0.0  0.0  0.0  0.0   0.0  \n",
       "7   ...  0.857  0.5  2.9   3.4  1.5  0.8  0.3  0.6  1.4  11.5  \n",
       "\n",
       "[9 rows x 29 columns]"
      ]
     },
     "execution_count": 2,
     "metadata": {},
     "output_type": "execute_result"
    }
   ],
   "source": [
    "filename = \"2021-2022_NBA_Player_Stats.csv\"\n",
    "df = pd.read_csv(filename,index_col=0, encoding = \"ISO-8859-1\",  sep=';')\n",
    "df.head(9)"
   ]
  },
  {
   "cell_type": "code",
   "execution_count": 3,
   "metadata": {},
   "outputs": [
    {
     "name": "stdout",
     "output_type": "stream",
     "text": [
      "<class 'pandas.core.frame.DataFrame'>\n",
      "Int64Index: 734 entries, 1 to 592\n",
      "Data columns (total 29 columns):\n",
      " #   Column  Non-Null Count  Dtype  \n",
      "---  ------  --------------  -----  \n",
      " 0   Player  734 non-null    object \n",
      " 1   Pos     734 non-null    object \n",
      " 2   Age     734 non-null    int64  \n",
      " 3   Tm      734 non-null    object \n",
      " 4   G       734 non-null    int64  \n",
      " 5   GS      734 non-null    int64  \n",
      " 6   MP      734 non-null    float64\n",
      " 7   FG      734 non-null    float64\n",
      " 8   FGA     734 non-null    float64\n",
      " 9   FG%     734 non-null    float64\n",
      " 10  3P      734 non-null    float64\n",
      " 11  3PA     734 non-null    float64\n",
      " 12  3P%     734 non-null    float64\n",
      " 13  2P      734 non-null    float64\n",
      " 14  2PA     734 non-null    float64\n",
      " 15  2P%     734 non-null    float64\n",
      " 16  eFG%    734 non-null    float64\n",
      " 17  FT      734 non-null    float64\n",
      " 18  FTA     734 non-null    float64\n",
      " 19  FT%     734 non-null    float64\n",
      " 20  ORB     734 non-null    float64\n",
      " 21  DRB     734 non-null    float64\n",
      " 22  TRB     734 non-null    float64\n",
      " 23  AST     734 non-null    float64\n",
      " 24  STL     734 non-null    float64\n",
      " 25  BLK     734 non-null    float64\n",
      " 26  TOV     734 non-null    float64\n",
      " 27  PF      734 non-null    float64\n",
      " 28  PTS     734 non-null    float64\n",
      "dtypes: float64(23), int64(3), object(3)\n",
      "memory usage: 172.0+ KB\n"
     ]
    }
   ],
   "source": [
    "df.info()"
   ]
  },
  {
   "cell_type": "code",
   "execution_count": 4,
   "metadata": {},
   "outputs": [
    {
     "data": {
      "text/html": [
       "<div>\n",
       "<style scoped>\n",
       "    .dataframe tbody tr th:only-of-type {\n",
       "        vertical-align: middle;\n",
       "    }\n",
       "\n",
       "    .dataframe tbody tr th {\n",
       "        vertical-align: top;\n",
       "    }\n",
       "\n",
       "    .dataframe thead th {\n",
       "        text-align: right;\n",
       "    }\n",
       "</style>\n",
       "<table border=\"1\" class=\"dataframe\">\n",
       "  <thead>\n",
       "    <tr style=\"text-align: right;\">\n",
       "      <th></th>\n",
       "      <th>Age</th>\n",
       "      <th>G</th>\n",
       "      <th>GS</th>\n",
       "      <th>MP</th>\n",
       "      <th>FG</th>\n",
       "      <th>FGA</th>\n",
       "      <th>FG%</th>\n",
       "      <th>3P</th>\n",
       "      <th>3PA</th>\n",
       "      <th>3P%</th>\n",
       "      <th>...</th>\n",
       "      <th>FT%</th>\n",
       "      <th>ORB</th>\n",
       "      <th>DRB</th>\n",
       "      <th>TRB</th>\n",
       "      <th>AST</th>\n",
       "      <th>STL</th>\n",
       "      <th>BLK</th>\n",
       "      <th>TOV</th>\n",
       "      <th>PF</th>\n",
       "      <th>PTS</th>\n",
       "    </tr>\n",
       "  </thead>\n",
       "  <tbody>\n",
       "    <tr>\n",
       "      <th>count</th>\n",
       "      <td>734.000000</td>\n",
       "      <td>734.000000</td>\n",
       "      <td>734.000000</td>\n",
       "      <td>734.000000</td>\n",
       "      <td>734.000000</td>\n",
       "      <td>734.000000</td>\n",
       "      <td>734.000000</td>\n",
       "      <td>734.000000</td>\n",
       "      <td>734.000000</td>\n",
       "      <td>734.000000</td>\n",
       "      <td>...</td>\n",
       "      <td>734.000000</td>\n",
       "      <td>734.000000</td>\n",
       "      <td>734.000000</td>\n",
       "      <td>734.000000</td>\n",
       "      <td>734.000000</td>\n",
       "      <td>734.000000</td>\n",
       "      <td>734.000000</td>\n",
       "      <td>734.000000</td>\n",
       "      <td>734.000000</td>\n",
       "      <td>734.000000</td>\n",
       "    </tr>\n",
       "    <tr>\n",
       "      <th>mean</th>\n",
       "      <td>26.044959</td>\n",
       "      <td>28.279292</td>\n",
       "      <td>12.915531</td>\n",
       "      <td>18.114169</td>\n",
       "      <td>2.855586</td>\n",
       "      <td>6.401907</td>\n",
       "      <td>0.420251</td>\n",
       "      <td>0.868801</td>\n",
       "      <td>2.572071</td>\n",
       "      <td>0.274554</td>\n",
       "      <td>...</td>\n",
       "      <td>0.633832</td>\n",
       "      <td>0.810899</td>\n",
       "      <td>2.540736</td>\n",
       "      <td>3.349455</td>\n",
       "      <td>1.775749</td>\n",
       "      <td>0.576158</td>\n",
       "      <td>0.361717</td>\n",
       "      <td>0.979428</td>\n",
       "      <td>1.539782</td>\n",
       "      <td>7.727520</td>\n",
       "    </tr>\n",
       "    <tr>\n",
       "      <th>std</th>\n",
       "      <td>4.092637</td>\n",
       "      <td>19.514704</td>\n",
       "      <td>18.423425</td>\n",
       "      <td>9.995226</td>\n",
       "      <td>2.288435</td>\n",
       "      <td>4.781059</td>\n",
       "      <td>0.161695</td>\n",
       "      <td>0.879551</td>\n",
       "      <td>2.292469</td>\n",
       "      <td>0.175847</td>\n",
       "      <td>...</td>\n",
       "      <td>0.305932</td>\n",
       "      <td>0.760459</td>\n",
       "      <td>1.870797</td>\n",
       "      <td>2.438201</td>\n",
       "      <td>1.841861</td>\n",
       "      <td>0.447355</td>\n",
       "      <td>0.392693</td>\n",
       "      <td>0.834717</td>\n",
       "      <td>0.844562</td>\n",
       "      <td>6.265428</td>\n",
       "    </tr>\n",
       "    <tr>\n",
       "      <th>min</th>\n",
       "      <td>19.000000</td>\n",
       "      <td>1.000000</td>\n",
       "      <td>0.000000</td>\n",
       "      <td>1.000000</td>\n",
       "      <td>0.000000</td>\n",
       "      <td>0.000000</td>\n",
       "      <td>0.000000</td>\n",
       "      <td>0.000000</td>\n",
       "      <td>0.000000</td>\n",
       "      <td>0.000000</td>\n",
       "      <td>...</td>\n",
       "      <td>0.000000</td>\n",
       "      <td>0.000000</td>\n",
       "      <td>0.000000</td>\n",
       "      <td>0.000000</td>\n",
       "      <td>0.000000</td>\n",
       "      <td>0.000000</td>\n",
       "      <td>0.000000</td>\n",
       "      <td>0.000000</td>\n",
       "      <td>0.000000</td>\n",
       "      <td>0.000000</td>\n",
       "    </tr>\n",
       "    <tr>\n",
       "      <th>25%</th>\n",
       "      <td>23.000000</td>\n",
       "      <td>6.250000</td>\n",
       "      <td>0.000000</td>\n",
       "      <td>9.725000</td>\n",
       "      <td>1.100000</td>\n",
       "      <td>2.800000</td>\n",
       "      <td>0.375000</td>\n",
       "      <td>0.100000</td>\n",
       "      <td>0.700000</td>\n",
       "      <td>0.182000</td>\n",
       "      <td>...</td>\n",
       "      <td>0.563000</td>\n",
       "      <td>0.300000</td>\n",
       "      <td>1.225000</td>\n",
       "      <td>1.600000</td>\n",
       "      <td>0.500000</td>\n",
       "      <td>0.300000</td>\n",
       "      <td>0.100000</td>\n",
       "      <td>0.400000</td>\n",
       "      <td>1.000000</td>\n",
       "      <td>3.000000</td>\n",
       "    </tr>\n",
       "    <tr>\n",
       "      <th>50%</th>\n",
       "      <td>25.000000</td>\n",
       "      <td>31.000000</td>\n",
       "      <td>3.000000</td>\n",
       "      <td>17.000000</td>\n",
       "      <td>2.400000</td>\n",
       "      <td>5.100000</td>\n",
       "      <td>0.436000</td>\n",
       "      <td>0.600000</td>\n",
       "      <td>2.000000</td>\n",
       "      <td>0.320000</td>\n",
       "      <td>...</td>\n",
       "      <td>0.748000</td>\n",
       "      <td>0.600000</td>\n",
       "      <td>2.300000</td>\n",
       "      <td>2.950000</td>\n",
       "      <td>1.100000</td>\n",
       "      <td>0.500000</td>\n",
       "      <td>0.300000</td>\n",
       "      <td>0.800000</td>\n",
       "      <td>1.600000</td>\n",
       "      <td>6.300000</td>\n",
       "    </tr>\n",
       "    <tr>\n",
       "      <th>75%</th>\n",
       "      <td>29.000000</td>\n",
       "      <td>46.000000</td>\n",
       "      <td>20.000000</td>\n",
       "      <td>26.475000</td>\n",
       "      <td>4.000000</td>\n",
       "      <td>8.900000</td>\n",
       "      <td>0.497250</td>\n",
       "      <td>1.400000</td>\n",
       "      <td>3.900000</td>\n",
       "      <td>0.375000</td>\n",
       "      <td>...</td>\n",
       "      <td>0.833000</td>\n",
       "      <td>1.100000</td>\n",
       "      <td>3.400000</td>\n",
       "      <td>4.500000</td>\n",
       "      <td>2.300000</td>\n",
       "      <td>0.800000</td>\n",
       "      <td>0.500000</td>\n",
       "      <td>1.300000</td>\n",
       "      <td>2.200000</td>\n",
       "      <td>10.675000</td>\n",
       "    </tr>\n",
       "    <tr>\n",
       "      <th>max</th>\n",
       "      <td>41.000000</td>\n",
       "      <td>60.000000</td>\n",
       "      <td>60.000000</td>\n",
       "      <td>39.000000</td>\n",
       "      <td>11.000000</td>\n",
       "      <td>21.400000</td>\n",
       "      <td>1.000000</td>\n",
       "      <td>4.600000</td>\n",
       "      <td>12.300000</td>\n",
       "      <td>1.000000</td>\n",
       "      <td>...</td>\n",
       "      <td>1.000000</td>\n",
       "      <td>4.500000</td>\n",
       "      <td>11.300000</td>\n",
       "      <td>14.800000</td>\n",
       "      <td>11.000000</td>\n",
       "      <td>2.300000</td>\n",
       "      <td>3.000000</td>\n",
       "      <td>4.800000</td>\n",
       "      <td>4.000000</td>\n",
       "      <td>29.400000</td>\n",
       "    </tr>\n",
       "  </tbody>\n",
       "</table>\n",
       "<p>8 rows × 26 columns</p>\n",
       "</div>"
      ],
      "text/plain": [
       "              Age           G          GS          MP          FG         FGA  \\\n",
       "count  734.000000  734.000000  734.000000  734.000000  734.000000  734.000000   \n",
       "mean    26.044959   28.279292   12.915531   18.114169    2.855586    6.401907   \n",
       "std      4.092637   19.514704   18.423425    9.995226    2.288435    4.781059   \n",
       "min     19.000000    1.000000    0.000000    1.000000    0.000000    0.000000   \n",
       "25%     23.000000    6.250000    0.000000    9.725000    1.100000    2.800000   \n",
       "50%     25.000000   31.000000    3.000000   17.000000    2.400000    5.100000   \n",
       "75%     29.000000   46.000000   20.000000   26.475000    4.000000    8.900000   \n",
       "max     41.000000   60.000000   60.000000   39.000000   11.000000   21.400000   \n",
       "\n",
       "              FG%          3P         3PA         3P%  ...         FT%  \\\n",
       "count  734.000000  734.000000  734.000000  734.000000  ...  734.000000   \n",
       "mean     0.420251    0.868801    2.572071    0.274554  ...    0.633832   \n",
       "std      0.161695    0.879551    2.292469    0.175847  ...    0.305932   \n",
       "min      0.000000    0.000000    0.000000    0.000000  ...    0.000000   \n",
       "25%      0.375000    0.100000    0.700000    0.182000  ...    0.563000   \n",
       "50%      0.436000    0.600000    2.000000    0.320000  ...    0.748000   \n",
       "75%      0.497250    1.400000    3.900000    0.375000  ...    0.833000   \n",
       "max      1.000000    4.600000   12.300000    1.000000  ...    1.000000   \n",
       "\n",
       "              ORB         DRB         TRB         AST         STL         BLK  \\\n",
       "count  734.000000  734.000000  734.000000  734.000000  734.000000  734.000000   \n",
       "mean     0.810899    2.540736    3.349455    1.775749    0.576158    0.361717   \n",
       "std      0.760459    1.870797    2.438201    1.841861    0.447355    0.392693   \n",
       "min      0.000000    0.000000    0.000000    0.000000    0.000000    0.000000   \n",
       "25%      0.300000    1.225000    1.600000    0.500000    0.300000    0.100000   \n",
       "50%      0.600000    2.300000    2.950000    1.100000    0.500000    0.300000   \n",
       "75%      1.100000    3.400000    4.500000    2.300000    0.800000    0.500000   \n",
       "max      4.500000   11.300000   14.800000   11.000000    2.300000    3.000000   \n",
       "\n",
       "              TOV          PF         PTS  \n",
       "count  734.000000  734.000000  734.000000  \n",
       "mean     0.979428    1.539782    7.727520  \n",
       "std      0.834717    0.844562    6.265428  \n",
       "min      0.000000    0.000000    0.000000  \n",
       "25%      0.400000    1.000000    3.000000  \n",
       "50%      0.800000    1.600000    6.300000  \n",
       "75%      1.300000    2.200000   10.675000  \n",
       "max      4.800000    4.000000   29.400000  \n",
       "\n",
       "[8 rows x 26 columns]"
      ]
     },
     "execution_count": 4,
     "metadata": {},
     "output_type": "execute_result"
    }
   ],
   "source": [
    "df.describe()"
   ]
  },
  {
   "cell_type": "code",
   "execution_count": 5,
   "metadata": {},
   "outputs": [
    {
     "data": {
      "text/html": [
       "<div>\n",
       "<style scoped>\n",
       "    .dataframe tbody tr th:only-of-type {\n",
       "        vertical-align: middle;\n",
       "    }\n",
       "\n",
       "    .dataframe tbody tr th {\n",
       "        vertical-align: top;\n",
       "    }\n",
       "\n",
       "    .dataframe thead th {\n",
       "        text-align: right;\n",
       "    }\n",
       "</style>\n",
       "<table border=\"1\" class=\"dataframe\">\n",
       "  <thead>\n",
       "    <tr style=\"text-align: right;\">\n",
       "      <th></th>\n",
       "      <th>Player</th>\n",
       "      <th>Pos</th>\n",
       "      <th>Age</th>\n",
       "      <th>Tm</th>\n",
       "      <th>G</th>\n",
       "      <th>GS</th>\n",
       "      <th>MP</th>\n",
       "      <th>FG</th>\n",
       "      <th>FGA</th>\n",
       "      <th>FG%</th>\n",
       "      <th>...</th>\n",
       "      <th>FT%</th>\n",
       "      <th>ORB</th>\n",
       "      <th>DRB</th>\n",
       "      <th>TRB</th>\n",
       "      <th>AST</th>\n",
       "      <th>STL</th>\n",
       "      <th>BLK</th>\n",
       "      <th>TOV</th>\n",
       "      <th>PF</th>\n",
       "      <th>PTS</th>\n",
       "    </tr>\n",
       "    <tr>\n",
       "      <th>Rk</th>\n",
       "      <th></th>\n",
       "      <th></th>\n",
       "      <th></th>\n",
       "      <th></th>\n",
       "      <th></th>\n",
       "      <th></th>\n",
       "      <th></th>\n",
       "      <th></th>\n",
       "      <th></th>\n",
       "      <th></th>\n",
       "      <th></th>\n",
       "      <th></th>\n",
       "      <th></th>\n",
       "      <th></th>\n",
       "      <th></th>\n",
       "      <th></th>\n",
       "      <th></th>\n",
       "      <th></th>\n",
       "      <th></th>\n",
       "      <th></th>\n",
       "      <th></th>\n",
       "    </tr>\n",
       "  </thead>\n",
       "  <tbody>\n",
       "    <tr>\n",
       "      <th>6</th>\n",
       "      <td>Nickeil Alexander-Walker</td>\n",
       "      <td>SG</td>\n",
       "      <td>23</td>\n",
       "      <td>UTA</td>\n",
       "      <td>2</td>\n",
       "      <td>0</td>\n",
       "      <td>2.5</td>\n",
       "      <td>0.0</td>\n",
       "      <td>0.5</td>\n",
       "      <td>0.000</td>\n",
       "      <td>...</td>\n",
       "      <td>0.000</td>\n",
       "      <td>0.0</td>\n",
       "      <td>0.5</td>\n",
       "      <td>0.5</td>\n",
       "      <td>0.0</td>\n",
       "      <td>0.0</td>\n",
       "      <td>0.0</td>\n",
       "      <td>0.0</td>\n",
       "      <td>0.0</td>\n",
       "      <td>0.0</td>\n",
       "    </tr>\n",
       "    <tr>\n",
       "      <th>10</th>\n",
       "      <td>Justin Anderson</td>\n",
       "      <td>SF</td>\n",
       "      <td>28</td>\n",
       "      <td>TOT</td>\n",
       "      <td>6</td>\n",
       "      <td>0</td>\n",
       "      <td>12.8</td>\n",
       "      <td>1.0</td>\n",
       "      <td>3.2</td>\n",
       "      <td>0.316</td>\n",
       "      <td>...</td>\n",
       "      <td>0.857</td>\n",
       "      <td>0.3</td>\n",
       "      <td>1.3</td>\n",
       "      <td>1.7</td>\n",
       "      <td>1.5</td>\n",
       "      <td>0.3</td>\n",
       "      <td>0.2</td>\n",
       "      <td>0.5</td>\n",
       "      <td>1.5</td>\n",
       "      <td>3.5</td>\n",
       "    </tr>\n",
       "    <tr>\n",
       "      <th>10</th>\n",
       "      <td>Justin Anderson</td>\n",
       "      <td>SF</td>\n",
       "      <td>28</td>\n",
       "      <td>CLE</td>\n",
       "      <td>3</td>\n",
       "      <td>0</td>\n",
       "      <td>15.7</td>\n",
       "      <td>1.3</td>\n",
       "      <td>2.7</td>\n",
       "      <td>0.500</td>\n",
       "      <td>...</td>\n",
       "      <td>0.750</td>\n",
       "      <td>0.0</td>\n",
       "      <td>2.0</td>\n",
       "      <td>2.0</td>\n",
       "      <td>2.0</td>\n",
       "      <td>0.3</td>\n",
       "      <td>0.0</td>\n",
       "      <td>0.7</td>\n",
       "      <td>1.3</td>\n",
       "      <td>4.3</td>\n",
       "    </tr>\n",
       "    <tr>\n",
       "      <th>10</th>\n",
       "      <td>Justin Anderson</td>\n",
       "      <td>SF</td>\n",
       "      <td>28</td>\n",
       "      <td>IND</td>\n",
       "      <td>3</td>\n",
       "      <td>0</td>\n",
       "      <td>10.0</td>\n",
       "      <td>0.7</td>\n",
       "      <td>3.7</td>\n",
       "      <td>0.182</td>\n",
       "      <td>...</td>\n",
       "      <td>1.000</td>\n",
       "      <td>0.7</td>\n",
       "      <td>0.7</td>\n",
       "      <td>1.3</td>\n",
       "      <td>1.0</td>\n",
       "      <td>0.3</td>\n",
       "      <td>0.3</td>\n",
       "      <td>0.3</td>\n",
       "      <td>1.7</td>\n",
       "      <td>2.7</td>\n",
       "    </tr>\n",
       "    <tr>\n",
       "      <th>20</th>\n",
       "      <td>Joel Ayayi</td>\n",
       "      <td>SG</td>\n",
       "      <td>21</td>\n",
       "      <td>WAS</td>\n",
       "      <td>7</td>\n",
       "      <td>0</td>\n",
       "      <td>2.9</td>\n",
       "      <td>0.1</td>\n",
       "      <td>0.9</td>\n",
       "      <td>0.167</td>\n",
       "      <td>...</td>\n",
       "      <td>0.000</td>\n",
       "      <td>0.1</td>\n",
       "      <td>0.3</td>\n",
       "      <td>0.4</td>\n",
       "      <td>0.6</td>\n",
       "      <td>0.0</td>\n",
       "      <td>0.0</td>\n",
       "      <td>0.0</td>\n",
       "      <td>0.0</td>\n",
       "      <td>0.3</td>\n",
       "    </tr>\n",
       "    <tr>\n",
       "      <th>...</th>\n",
       "      <td>...</td>\n",
       "      <td>...</td>\n",
       "      <td>...</td>\n",
       "      <td>...</td>\n",
       "      <td>...</td>\n",
       "      <td>...</td>\n",
       "      <td>...</td>\n",
       "      <td>...</td>\n",
       "      <td>...</td>\n",
       "      <td>...</td>\n",
       "      <td>...</td>\n",
       "      <td>...</td>\n",
       "      <td>...</td>\n",
       "      <td>...</td>\n",
       "      <td>...</td>\n",
       "      <td>...</td>\n",
       "      <td>...</td>\n",
       "      <td>...</td>\n",
       "      <td>...</td>\n",
       "      <td>...</td>\n",
       "      <td>...</td>\n",
       "    </tr>\n",
       "    <tr>\n",
       "      <th>581</th>\n",
       "      <td>Justise Winslow</td>\n",
       "      <td>SF</td>\n",
       "      <td>25</td>\n",
       "      <td>POR</td>\n",
       "      <td>6</td>\n",
       "      <td>5</td>\n",
       "      <td>31.3</td>\n",
       "      <td>4.8</td>\n",
       "      <td>10.5</td>\n",
       "      <td>0.460</td>\n",
       "      <td>...</td>\n",
       "      <td>0.667</td>\n",
       "      <td>1.7</td>\n",
       "      <td>5.7</td>\n",
       "      <td>7.3</td>\n",
       "      <td>3.3</td>\n",
       "      <td>1.7</td>\n",
       "      <td>0.8</td>\n",
       "      <td>1.3</td>\n",
       "      <td>2.0</td>\n",
       "      <td>12.0</td>\n",
       "    </tr>\n",
       "    <tr>\n",
       "      <th>582</th>\n",
       "      <td>Cassius Winston</td>\n",
       "      <td>PG</td>\n",
       "      <td>23</td>\n",
       "      <td>WAS</td>\n",
       "      <td>4</td>\n",
       "      <td>0</td>\n",
       "      <td>5.8</td>\n",
       "      <td>0.8</td>\n",
       "      <td>1.5</td>\n",
       "      <td>0.500</td>\n",
       "      <td>...</td>\n",
       "      <td>1.000</td>\n",
       "      <td>0.0</td>\n",
       "      <td>0.0</td>\n",
       "      <td>0.0</td>\n",
       "      <td>1.0</td>\n",
       "      <td>0.0</td>\n",
       "      <td>0.0</td>\n",
       "      <td>0.3</td>\n",
       "      <td>1.0</td>\n",
       "      <td>2.5</td>\n",
       "    </tr>\n",
       "    <tr>\n",
       "      <th>586</th>\n",
       "      <td>McKinley Wright IV</td>\n",
       "      <td>PG</td>\n",
       "      <td>23</td>\n",
       "      <td>MIN</td>\n",
       "      <td>3</td>\n",
       "      <td>0</td>\n",
       "      <td>3.0</td>\n",
       "      <td>0.7</td>\n",
       "      <td>1.0</td>\n",
       "      <td>0.667</td>\n",
       "      <td>...</td>\n",
       "      <td>0.000</td>\n",
       "      <td>0.0</td>\n",
       "      <td>0.0</td>\n",
       "      <td>0.0</td>\n",
       "      <td>0.3</td>\n",
       "      <td>0.0</td>\n",
       "      <td>0.0</td>\n",
       "      <td>0.3</td>\n",
       "      <td>0.3</td>\n",
       "      <td>1.7</td>\n",
       "    </tr>\n",
       "    <tr>\n",
       "      <th>587</th>\n",
       "      <td>Moses Wright</td>\n",
       "      <td>PF</td>\n",
       "      <td>23</td>\n",
       "      <td>LAC</td>\n",
       "      <td>1</td>\n",
       "      <td>0</td>\n",
       "      <td>1.0</td>\n",
       "      <td>0.0</td>\n",
       "      <td>0.0</td>\n",
       "      <td>0.000</td>\n",
       "      <td>...</td>\n",
       "      <td>0.000</td>\n",
       "      <td>0.0</td>\n",
       "      <td>0.0</td>\n",
       "      <td>0.0</td>\n",
       "      <td>1.0</td>\n",
       "      <td>0.0</td>\n",
       "      <td>0.0</td>\n",
       "      <td>0.0</td>\n",
       "      <td>0.0</td>\n",
       "      <td>0.0</td>\n",
       "    </tr>\n",
       "    <tr>\n",
       "      <th>588</th>\n",
       "      <td>Thaddeus Young</td>\n",
       "      <td>PF</td>\n",
       "      <td>33</td>\n",
       "      <td>TOR</td>\n",
       "      <td>2</td>\n",
       "      <td>0</td>\n",
       "      <td>16.5</td>\n",
       "      <td>3.5</td>\n",
       "      <td>7.0</td>\n",
       "      <td>0.500</td>\n",
       "      <td>...</td>\n",
       "      <td>0.000</td>\n",
       "      <td>2.0</td>\n",
       "      <td>2.5</td>\n",
       "      <td>4.5</td>\n",
       "      <td>1.0</td>\n",
       "      <td>1.0</td>\n",
       "      <td>0.5</td>\n",
       "      <td>1.5</td>\n",
       "      <td>1.5</td>\n",
       "      <td>7.0</td>\n",
       "    </tr>\n",
       "  </tbody>\n",
       "</table>\n",
       "<p>211 rows × 29 columns</p>\n",
       "</div>"
      ],
      "text/plain": [
       "                       Player Pos  Age   Tm  G  GS    MP   FG   FGA    FG%  \\\n",
       "Rk                                                                           \n",
       "6    Nickeil Alexander-Walker  SG   23  UTA  2   0   2.5  0.0   0.5  0.000   \n",
       "10            Justin Anderson  SF   28  TOT  6   0  12.8  1.0   3.2  0.316   \n",
       "10            Justin Anderson  SF   28  CLE  3   0  15.7  1.3   2.7  0.500   \n",
       "10            Justin Anderson  SF   28  IND  3   0  10.0  0.7   3.7  0.182   \n",
       "20                 Joel Ayayi  SG   21  WAS  7   0   2.9  0.1   0.9  0.167   \n",
       "..                        ...  ..  ...  ... ..  ..   ...  ...   ...    ...   \n",
       "581           Justise Winslow  SF   25  POR  6   5  31.3  4.8  10.5  0.460   \n",
       "582           Cassius Winston  PG   23  WAS  4   0   5.8  0.8   1.5  0.500   \n",
       "586        McKinley Wright IV  PG   23  MIN  3   0   3.0  0.7   1.0  0.667   \n",
       "587              Moses Wright  PF   23  LAC  1   0   1.0  0.0   0.0  0.000   \n",
       "588            Thaddeus Young  PF   33  TOR  2   0  16.5  3.5   7.0  0.500   \n",
       "\n",
       "     ...    FT%  ORB  DRB  TRB  AST  STL  BLK  TOV   PF   PTS  \n",
       "Rk   ...                                                       \n",
       "6    ...  0.000  0.0  0.5  0.5  0.0  0.0  0.0  0.0  0.0   0.0  \n",
       "10   ...  0.857  0.3  1.3  1.7  1.5  0.3  0.2  0.5  1.5   3.5  \n",
       "10   ...  0.750  0.0  2.0  2.0  2.0  0.3  0.0  0.7  1.3   4.3  \n",
       "10   ...  1.000  0.7  0.7  1.3  1.0  0.3  0.3  0.3  1.7   2.7  \n",
       "20   ...  0.000  0.1  0.3  0.4  0.6  0.0  0.0  0.0  0.0   0.3  \n",
       "..   ...    ...  ...  ...  ...  ...  ...  ...  ...  ...   ...  \n",
       "581  ...  0.667  1.7  5.7  7.3  3.3  1.7  0.8  1.3  2.0  12.0  \n",
       "582  ...  1.000  0.0  0.0  0.0  1.0  0.0  0.0  0.3  1.0   2.5  \n",
       "586  ...  0.000  0.0  0.0  0.0  0.3  0.0  0.0  0.3  0.3   1.7  \n",
       "587  ...  0.000  0.0  0.0  0.0  1.0  0.0  0.0  0.0  0.0   0.0  \n",
       "588  ...  0.000  2.0  2.5  4.5  1.0  1.0  0.5  1.5  1.5   7.0  \n",
       "\n",
       "[211 rows x 29 columns]"
      ]
     },
     "execution_count": 5,
     "metadata": {},
     "output_type": "execute_result"
    }
   ],
   "source": [
    "df[df['G']<10]"
   ]
  },
  {
   "cell_type": "code",
   "execution_count": 5,
   "metadata": {},
   "outputs": [],
   "source": [
    "df.loc[df[\"Player\"] == \"Nikola Joki?\", \"Player\"] = 'Nikola Jokic'\n",
    "df.loc[df[\"Player\"] == \"Luka Don?i?\", \"Player\"] = 'Luka Doncic'"
   ]
  },
  {
   "cell_type": "code",
   "execution_count": 6,
   "metadata": {},
   "outputs": [],
   "source": [
    "all_star = [0]*734"
   ]
  },
  {
   "cell_type": "code",
   "execution_count": 7,
   "metadata": {},
   "outputs": [],
   "source": [
    "df['ALLSTAR'] = all_star"
   ]
  },
  {
   "cell_type": "code",
   "execution_count": 8,
   "metadata": {},
   "outputs": [],
   "source": [
    "df.loc[df['Player'].isin(['Trae Young', 'DeMar DeRozan', 'Joel Embiid', 'Kevin Durant', 'Giannis Antetokounmpo', 'LaMelo Ball', \n",
    "'Darius Garland', 'James Harden', 'Zach LaVine', 'Fred VanVleet', 'Jimmy Butler', 'Khris Middleton', 'Jayson Tatum', 'Jarrett Allen',\n",
    "'Stephen Curry', 'Ja Morant', 'Nikola Jokic', 'LeBron James', 'Andrew Wiggins', 'Devin Booker', 'Luka Doncic', 'Donovan Mitchell', \n",
    "'Dejounte Murray', 'Chris Paul', 'Draymond Green', 'Rudy Gobert', 'Karl-Anthony Towns']), \"ALLSTAR\"] = 1"
   ]
  },
  {
   "cell_type": "code",
   "execution_count": 9,
   "metadata": {},
   "outputs": [
    {
     "data": {
      "text/html": [
       "<div>\n",
       "<style scoped>\n",
       "    .dataframe tbody tr th:only-of-type {\n",
       "        vertical-align: middle;\n",
       "    }\n",
       "\n",
       "    .dataframe tbody tr th {\n",
       "        vertical-align: top;\n",
       "    }\n",
       "\n",
       "    .dataframe thead th {\n",
       "        text-align: right;\n",
       "    }\n",
       "</style>\n",
       "<table border=\"1\" class=\"dataframe\">\n",
       "  <thead>\n",
       "    <tr style=\"text-align: right;\">\n",
       "      <th></th>\n",
       "      <th>Player</th>\n",
       "      <th>Pos</th>\n",
       "      <th>Age</th>\n",
       "      <th>Tm</th>\n",
       "      <th>G</th>\n",
       "      <th>GS</th>\n",
       "      <th>MP</th>\n",
       "      <th>FG</th>\n",
       "      <th>FGA</th>\n",
       "      <th>FG%</th>\n",
       "      <th>...</th>\n",
       "      <th>ORB</th>\n",
       "      <th>DRB</th>\n",
       "      <th>TRB</th>\n",
       "      <th>AST</th>\n",
       "      <th>STL</th>\n",
       "      <th>BLK</th>\n",
       "      <th>TOV</th>\n",
       "      <th>PF</th>\n",
       "      <th>PTS</th>\n",
       "      <th>ALLSTAR</th>\n",
       "    </tr>\n",
       "    <tr>\n",
       "      <th>Rk</th>\n",
       "      <th></th>\n",
       "      <th></th>\n",
       "      <th></th>\n",
       "      <th></th>\n",
       "      <th></th>\n",
       "      <th></th>\n",
       "      <th></th>\n",
       "      <th></th>\n",
       "      <th></th>\n",
       "      <th></th>\n",
       "      <th></th>\n",
       "      <th></th>\n",
       "      <th></th>\n",
       "      <th></th>\n",
       "      <th></th>\n",
       "      <th></th>\n",
       "      <th></th>\n",
       "      <th></th>\n",
       "      <th></th>\n",
       "      <th></th>\n",
       "      <th></th>\n",
       "    </tr>\n",
       "  </thead>\n",
       "  <tbody>\n",
       "    <tr>\n",
       "      <th>8</th>\n",
       "      <td>Jarrett Allen</td>\n",
       "      <td>C</td>\n",
       "      <td>23</td>\n",
       "      <td>CLE</td>\n",
       "      <td>50</td>\n",
       "      <td>50</td>\n",
       "      <td>32.6</td>\n",
       "      <td>6.6</td>\n",
       "      <td>9.9</td>\n",
       "      <td>0.666</td>\n",
       "      <td>...</td>\n",
       "      <td>3.6</td>\n",
       "      <td>7.4</td>\n",
       "      <td>11.0</td>\n",
       "      <td>1.8</td>\n",
       "      <td>0.7</td>\n",
       "      <td>1.3</td>\n",
       "      <td>1.8</td>\n",
       "      <td>1.8</td>\n",
       "      <td>16.2</td>\n",
       "      <td>1</td>\n",
       "    </tr>\n",
       "    <tr>\n",
       "      <th>12</th>\n",
       "      <td>Giannis Antetokounmpo</td>\n",
       "      <td>PF</td>\n",
       "      <td>27</td>\n",
       "      <td>MIL</td>\n",
       "      <td>48</td>\n",
       "      <td>48</td>\n",
       "      <td>32.6</td>\n",
       "      <td>10.1</td>\n",
       "      <td>18.4</td>\n",
       "      <td>0.547</td>\n",
       "      <td>...</td>\n",
       "      <td>1.9</td>\n",
       "      <td>9.4</td>\n",
       "      <td>11.3</td>\n",
       "      <td>6.0</td>\n",
       "      <td>0.9</td>\n",
       "      <td>1.4</td>\n",
       "      <td>3.3</td>\n",
       "      <td>3.2</td>\n",
       "      <td>29.4</td>\n",
       "      <td>1</td>\n",
       "    </tr>\n",
       "    <tr>\n",
       "      <th>24</th>\n",
       "      <td>LaMelo Ball</td>\n",
       "      <td>PG</td>\n",
       "      <td>20</td>\n",
       "      <td>CHO</td>\n",
       "      <td>52</td>\n",
       "      <td>52</td>\n",
       "      <td>32.6</td>\n",
       "      <td>7.2</td>\n",
       "      <td>16.9</td>\n",
       "      <td>0.425</td>\n",
       "      <td>...</td>\n",
       "      <td>1.6</td>\n",
       "      <td>5.4</td>\n",
       "      <td>7.0</td>\n",
       "      <td>7.4</td>\n",
       "      <td>1.6</td>\n",
       "      <td>0.4</td>\n",
       "      <td>3.1</td>\n",
       "      <td>3.2</td>\n",
       "      <td>20.2</td>\n",
       "      <td>1</td>\n",
       "    </tr>\n",
       "    <tr>\n",
       "      <th>58</th>\n",
       "      <td>Devin Booker</td>\n",
       "      <td>SG</td>\n",
       "      <td>25</td>\n",
       "      <td>PHO</td>\n",
       "      <td>51</td>\n",
       "      <td>51</td>\n",
       "      <td>34.1</td>\n",
       "      <td>9.3</td>\n",
       "      <td>20.8</td>\n",
       "      <td>0.446</td>\n",
       "      <td>...</td>\n",
       "      <td>0.8</td>\n",
       "      <td>4.4</td>\n",
       "      <td>5.2</td>\n",
       "      <td>4.5</td>\n",
       "      <td>1.0</td>\n",
       "      <td>0.4</td>\n",
       "      <td>2.4</td>\n",
       "      <td>2.5</td>\n",
       "      <td>25.5</td>\n",
       "      <td>1</td>\n",
       "    </tr>\n",
       "    <tr>\n",
       "      <th>86</th>\n",
       "      <td>Jimmy Butler</td>\n",
       "      <td>SF</td>\n",
       "      <td>32</td>\n",
       "      <td>MIA</td>\n",
       "      <td>39</td>\n",
       "      <td>39</td>\n",
       "      <td>33.9</td>\n",
       "      <td>7.2</td>\n",
       "      <td>14.7</td>\n",
       "      <td>0.490</td>\n",
       "      <td>...</td>\n",
       "      <td>1.9</td>\n",
       "      <td>4.4</td>\n",
       "      <td>6.3</td>\n",
       "      <td>5.9</td>\n",
       "      <td>1.8</td>\n",
       "      <td>0.4</td>\n",
       "      <td>2.1</td>\n",
       "      <td>1.5</td>\n",
       "      <td>21.9</td>\n",
       "      <td>1</td>\n",
       "    </tr>\n",
       "    <tr>\n",
       "      <th>124</th>\n",
       "      <td>Stephen Curry</td>\n",
       "      <td>PG</td>\n",
       "      <td>33</td>\n",
       "      <td>GSW</td>\n",
       "      <td>54</td>\n",
       "      <td>54</td>\n",
       "      <td>34.8</td>\n",
       "      <td>8.4</td>\n",
       "      <td>19.6</td>\n",
       "      <td>0.427</td>\n",
       "      <td>...</td>\n",
       "      <td>0.6</td>\n",
       "      <td>4.7</td>\n",
       "      <td>5.3</td>\n",
       "      <td>6.3</td>\n",
       "      <td>1.4</td>\n",
       "      <td>0.4</td>\n",
       "      <td>3.2</td>\n",
       "      <td>2.1</td>\n",
       "      <td>25.8</td>\n",
       "      <td>1</td>\n",
       "    </tr>\n",
       "    <tr>\n",
       "      <th>132</th>\n",
       "      <td>DeMar DeRozan</td>\n",
       "      <td>PF</td>\n",
       "      <td>32</td>\n",
       "      <td>CHI</td>\n",
       "      <td>55</td>\n",
       "      <td>55</td>\n",
       "      <td>35.6</td>\n",
       "      <td>10.3</td>\n",
       "      <td>19.9</td>\n",
       "      <td>0.517</td>\n",
       "      <td>...</td>\n",
       "      <td>0.8</td>\n",
       "      <td>4.4</td>\n",
       "      <td>5.2</td>\n",
       "      <td>5.1</td>\n",
       "      <td>0.9</td>\n",
       "      <td>0.3</td>\n",
       "      <td>2.3</td>\n",
       "      <td>2.2</td>\n",
       "      <td>28.1</td>\n",
       "      <td>1</td>\n",
       "    </tr>\n",
       "    <tr>\n",
       "      <th>139</th>\n",
       "      <td>Luka Doncic</td>\n",
       "      <td>PG</td>\n",
       "      <td>22</td>\n",
       "      <td>DAL</td>\n",
       "      <td>43</td>\n",
       "      <td>43</td>\n",
       "      <td>35.4</td>\n",
       "      <td>9.6</td>\n",
       "      <td>21.3</td>\n",
       "      <td>0.448</td>\n",
       "      <td>...</td>\n",
       "      <td>0.9</td>\n",
       "      <td>8.2</td>\n",
       "      <td>9.0</td>\n",
       "      <td>9.0</td>\n",
       "      <td>1.2</td>\n",
       "      <td>0.5</td>\n",
       "      <td>4.4</td>\n",
       "      <td>2.4</td>\n",
       "      <td>27.0</td>\n",
       "      <td>1</td>\n",
       "    </tr>\n",
       "    <tr>\n",
       "      <th>151</th>\n",
       "      <td>Kevin Durant</td>\n",
       "      <td>PF</td>\n",
       "      <td>33</td>\n",
       "      <td>BRK</td>\n",
       "      <td>36</td>\n",
       "      <td>36</td>\n",
       "      <td>36.5</td>\n",
       "      <td>10.5</td>\n",
       "      <td>20.3</td>\n",
       "      <td>0.520</td>\n",
       "      <td>...</td>\n",
       "      <td>0.6</td>\n",
       "      <td>6.9</td>\n",
       "      <td>7.4</td>\n",
       "      <td>5.8</td>\n",
       "      <td>0.8</td>\n",
       "      <td>0.9</td>\n",
       "      <td>3.0</td>\n",
       "      <td>1.9</td>\n",
       "      <td>29.3</td>\n",
       "      <td>1</td>\n",
       "    </tr>\n",
       "    <tr>\n",
       "      <th>158</th>\n",
       "      <td>Joel Embiid</td>\n",
       "      <td>C</td>\n",
       "      <td>27</td>\n",
       "      <td>PHI</td>\n",
       "      <td>45</td>\n",
       "      <td>45</td>\n",
       "      <td>32.8</td>\n",
       "      <td>9.4</td>\n",
       "      <td>19.2</td>\n",
       "      <td>0.491</td>\n",
       "      <td>...</td>\n",
       "      <td>2.0</td>\n",
       "      <td>9.1</td>\n",
       "      <td>11.1</td>\n",
       "      <td>4.5</td>\n",
       "      <td>1.0</td>\n",
       "      <td>1.5</td>\n",
       "      <td>2.9</td>\n",
       "      <td>2.6</td>\n",
       "      <td>29.3</td>\n",
       "      <td>1</td>\n",
       "    </tr>\n",
       "    <tr>\n",
       "      <th>178</th>\n",
       "      <td>Darius Garland</td>\n",
       "      <td>PG</td>\n",
       "      <td>22</td>\n",
       "      <td>CLE</td>\n",
       "      <td>47</td>\n",
       "      <td>47</td>\n",
       "      <td>34.6</td>\n",
       "      <td>7.8</td>\n",
       "      <td>16.3</td>\n",
       "      <td>0.477</td>\n",
       "      <td>...</td>\n",
       "      <td>0.5</td>\n",
       "      <td>2.8</td>\n",
       "      <td>3.3</td>\n",
       "      <td>8.0</td>\n",
       "      <td>1.2</td>\n",
       "      <td>0.1</td>\n",
       "      <td>3.7</td>\n",
       "      <td>1.7</td>\n",
       "      <td>20.3</td>\n",
       "      <td>1</td>\n",
       "    </tr>\n",
       "    <tr>\n",
       "      <th>189</th>\n",
       "      <td>Rudy Gobert</td>\n",
       "      <td>C</td>\n",
       "      <td>29</td>\n",
       "      <td>UTA</td>\n",
       "      <td>44</td>\n",
       "      <td>44</td>\n",
       "      <td>32.1</td>\n",
       "      <td>5.6</td>\n",
       "      <td>7.9</td>\n",
       "      <td>0.711</td>\n",
       "      <td>...</td>\n",
       "      <td>3.5</td>\n",
       "      <td>11.3</td>\n",
       "      <td>14.8</td>\n",
       "      <td>1.2</td>\n",
       "      <td>0.8</td>\n",
       "      <td>2.3</td>\n",
       "      <td>1.8</td>\n",
       "      <td>2.7</td>\n",
       "      <td>15.7</td>\n",
       "      <td>1</td>\n",
       "    </tr>\n",
       "    <tr>\n",
       "      <th>198</th>\n",
       "      <td>Draymond Green</td>\n",
       "      <td>PF</td>\n",
       "      <td>31</td>\n",
       "      <td>GSW</td>\n",
       "      <td>34</td>\n",
       "      <td>34</td>\n",
       "      <td>29.9</td>\n",
       "      <td>3.2</td>\n",
       "      <td>5.9</td>\n",
       "      <td>0.537</td>\n",
       "      <td>...</td>\n",
       "      <td>1.1</td>\n",
       "      <td>6.4</td>\n",
       "      <td>7.6</td>\n",
       "      <td>7.4</td>\n",
       "      <td>1.4</td>\n",
       "      <td>1.2</td>\n",
       "      <td>3.1</td>\n",
       "      <td>2.8</td>\n",
       "      <td>7.9</td>\n",
       "      <td>1</td>\n",
       "    </tr>\n",
       "    <tr>\n",
       "      <th>212</th>\n",
       "      <td>James Harden</td>\n",
       "      <td>PG</td>\n",
       "      <td>32</td>\n",
       "      <td>BRK</td>\n",
       "      <td>44</td>\n",
       "      <td>44</td>\n",
       "      <td>37.0</td>\n",
       "      <td>6.6</td>\n",
       "      <td>16.0</td>\n",
       "      <td>0.414</td>\n",
       "      <td>...</td>\n",
       "      <td>1.0</td>\n",
       "      <td>7.0</td>\n",
       "      <td>8.0</td>\n",
       "      <td>10.2</td>\n",
       "      <td>1.3</td>\n",
       "      <td>0.7</td>\n",
       "      <td>4.8</td>\n",
       "      <td>2.4</td>\n",
       "      <td>22.5</td>\n",
       "      <td>1</td>\n",
       "    </tr>\n",
       "    <tr>\n",
       "      <th>267</th>\n",
       "      <td>LeBron James</td>\n",
       "      <td>SF</td>\n",
       "      <td>37</td>\n",
       "      <td>LAL</td>\n",
       "      <td>41</td>\n",
       "      <td>41</td>\n",
       "      <td>36.8</td>\n",
       "      <td>11.0</td>\n",
       "      <td>21.2</td>\n",
       "      <td>0.522</td>\n",
       "      <td>...</td>\n",
       "      <td>1.1</td>\n",
       "      <td>6.8</td>\n",
       "      <td>7.9</td>\n",
       "      <td>6.5</td>\n",
       "      <td>1.6</td>\n",
       "      <td>1.0</td>\n",
       "      <td>3.2</td>\n",
       "      <td>2.2</td>\n",
       "      <td>29.1</td>\n",
       "      <td>1</td>\n",
       "    </tr>\n",
       "    <tr>\n",
       "      <th>283</th>\n",
       "      <td>Nikola Jokic</td>\n",
       "      <td>C</td>\n",
       "      <td>26</td>\n",
       "      <td>DEN</td>\n",
       "      <td>52</td>\n",
       "      <td>52</td>\n",
       "      <td>33.0</td>\n",
       "      <td>9.9</td>\n",
       "      <td>17.4</td>\n",
       "      <td>0.570</td>\n",
       "      <td>...</td>\n",
       "      <td>2.8</td>\n",
       "      <td>11.0</td>\n",
       "      <td>13.8</td>\n",
       "      <td>7.9</td>\n",
       "      <td>1.3</td>\n",
       "      <td>0.8</td>\n",
       "      <td>3.8</td>\n",
       "      <td>2.5</td>\n",
       "      <td>26.0</td>\n",
       "      <td>1</td>\n",
       "    </tr>\n",
       "    <tr>\n",
       "      <th>317</th>\n",
       "      <td>Zach LaVine</td>\n",
       "      <td>SF</td>\n",
       "      <td>26</td>\n",
       "      <td>CHI</td>\n",
       "      <td>47</td>\n",
       "      <td>47</td>\n",
       "      <td>34.6</td>\n",
       "      <td>8.7</td>\n",
       "      <td>18.1</td>\n",
       "      <td>0.482</td>\n",
       "      <td>...</td>\n",
       "      <td>0.3</td>\n",
       "      <td>4.6</td>\n",
       "      <td>4.9</td>\n",
       "      <td>4.5</td>\n",
       "      <td>0.6</td>\n",
       "      <td>0.4</td>\n",
       "      <td>2.7</td>\n",
       "      <td>1.7</td>\n",
       "      <td>24.6</td>\n",
       "      <td>1</td>\n",
       "    </tr>\n",
       "    <tr>\n",
       "      <th>369</th>\n",
       "      <td>Khris Middleton</td>\n",
       "      <td>SF</td>\n",
       "      <td>30</td>\n",
       "      <td>MIL</td>\n",
       "      <td>47</td>\n",
       "      <td>47</td>\n",
       "      <td>32.0</td>\n",
       "      <td>6.6</td>\n",
       "      <td>14.9</td>\n",
       "      <td>0.442</td>\n",
       "      <td>...</td>\n",
       "      <td>0.6</td>\n",
       "      <td>4.9</td>\n",
       "      <td>5.5</td>\n",
       "      <td>5.3</td>\n",
       "      <td>1.2</td>\n",
       "      <td>0.3</td>\n",
       "      <td>3.0</td>\n",
       "      <td>2.5</td>\n",
       "      <td>19.4</td>\n",
       "      <td>1</td>\n",
       "    </tr>\n",
       "    <tr>\n",
       "      <th>375</th>\n",
       "      <td>Donovan Mitchell</td>\n",
       "      <td>SG</td>\n",
       "      <td>25</td>\n",
       "      <td>UTA</td>\n",
       "      <td>46</td>\n",
       "      <td>46</td>\n",
       "      <td>33.4</td>\n",
       "      <td>9.3</td>\n",
       "      <td>20.3</td>\n",
       "      <td>0.456</td>\n",
       "      <td>...</td>\n",
       "      <td>0.9</td>\n",
       "      <td>3.3</td>\n",
       "      <td>4.2</td>\n",
       "      <td>5.2</td>\n",
       "      <td>1.6</td>\n",
       "      <td>0.3</td>\n",
       "      <td>2.9</td>\n",
       "      <td>2.4</td>\n",
       "      <td>25.7</td>\n",
       "      <td>1</td>\n",
       "    </tr>\n",
       "    <tr>\n",
       "      <th>382</th>\n",
       "      <td>Ja Morant</td>\n",
       "      <td>PG</td>\n",
       "      <td>22</td>\n",
       "      <td>MEM</td>\n",
       "      <td>46</td>\n",
       "      <td>46</td>\n",
       "      <td>33.2</td>\n",
       "      <td>10.0</td>\n",
       "      <td>20.2</td>\n",
       "      <td>0.495</td>\n",
       "      <td>...</td>\n",
       "      <td>1.3</td>\n",
       "      <td>4.5</td>\n",
       "      <td>5.8</td>\n",
       "      <td>6.9</td>\n",
       "      <td>1.2</td>\n",
       "      <td>0.4</td>\n",
       "      <td>3.4</td>\n",
       "      <td>1.5</td>\n",
       "      <td>26.8</td>\n",
       "      <td>1</td>\n",
       "    </tr>\n",
       "    <tr>\n",
       "      <th>392</th>\n",
       "      <td>Dejounte Murray</td>\n",
       "      <td>PG</td>\n",
       "      <td>25</td>\n",
       "      <td>SAS</td>\n",
       "      <td>52</td>\n",
       "      <td>52</td>\n",
       "      <td>34.4</td>\n",
       "      <td>8.2</td>\n",
       "      <td>17.9</td>\n",
       "      <td>0.459</td>\n",
       "      <td>...</td>\n",
       "      <td>1.3</td>\n",
       "      <td>7.0</td>\n",
       "      <td>8.3</td>\n",
       "      <td>9.3</td>\n",
       "      <td>2.0</td>\n",
       "      <td>0.3</td>\n",
       "      <td>2.4</td>\n",
       "      <td>2.0</td>\n",
       "      <td>19.9</td>\n",
       "      <td>1</td>\n",
       "    </tr>\n",
       "    <tr>\n",
       "      <th>429</th>\n",
       "      <td>Chris Paul</td>\n",
       "      <td>PG</td>\n",
       "      <td>36</td>\n",
       "      <td>PHO</td>\n",
       "      <td>58</td>\n",
       "      <td>58</td>\n",
       "      <td>33.0</td>\n",
       "      <td>5.6</td>\n",
       "      <td>11.5</td>\n",
       "      <td>0.487</td>\n",
       "      <td>...</td>\n",
       "      <td>0.3</td>\n",
       "      <td>4.2</td>\n",
       "      <td>4.5</td>\n",
       "      <td>10.7</td>\n",
       "      <td>1.9</td>\n",
       "      <td>0.3</td>\n",
       "      <td>2.4</td>\n",
       "      <td>2.0</td>\n",
       "      <td>14.9</td>\n",
       "      <td>1</td>\n",
       "    </tr>\n",
       "    <tr>\n",
       "      <th>515</th>\n",
       "      <td>Jayson Tatum</td>\n",
       "      <td>SF</td>\n",
       "      <td>23</td>\n",
       "      <td>BOS</td>\n",
       "      <td>56</td>\n",
       "      <td>56</td>\n",
       "      <td>36.1</td>\n",
       "      <td>8.9</td>\n",
       "      <td>20.6</td>\n",
       "      <td>0.434</td>\n",
       "      <td>...</td>\n",
       "      <td>1.2</td>\n",
       "      <td>7.2</td>\n",
       "      <td>8.4</td>\n",
       "      <td>4.2</td>\n",
       "      <td>1.0</td>\n",
       "      <td>0.7</td>\n",
       "      <td>2.9</td>\n",
       "      <td>2.3</td>\n",
       "      <td>25.7</td>\n",
       "      <td>1</td>\n",
       "    </tr>\n",
       "    <tr>\n",
       "      <th>535</th>\n",
       "      <td>Karl-Anthony Towns</td>\n",
       "      <td>C</td>\n",
       "      <td>26</td>\n",
       "      <td>MIN</td>\n",
       "      <td>52</td>\n",
       "      <td>52</td>\n",
       "      <td>34.3</td>\n",
       "      <td>8.7</td>\n",
       "      <td>16.7</td>\n",
       "      <td>0.522</td>\n",
       "      <td>...</td>\n",
       "      <td>2.8</td>\n",
       "      <td>6.9</td>\n",
       "      <td>9.7</td>\n",
       "      <td>4.0</td>\n",
       "      <td>1.0</td>\n",
       "      <td>1.1</td>\n",
       "      <td>3.3</td>\n",
       "      <td>3.6</td>\n",
       "      <td>24.4</td>\n",
       "      <td>1</td>\n",
       "    </tr>\n",
       "    <tr>\n",
       "      <th>543</th>\n",
       "      <td>Fred VanVleet</td>\n",
       "      <td>PG</td>\n",
       "      <td>27</td>\n",
       "      <td>TOR</td>\n",
       "      <td>50</td>\n",
       "      <td>50</td>\n",
       "      <td>38.4</td>\n",
       "      <td>7.3</td>\n",
       "      <td>17.3</td>\n",
       "      <td>0.419</td>\n",
       "      <td>...</td>\n",
       "      <td>0.8</td>\n",
       "      <td>3.8</td>\n",
       "      <td>4.6</td>\n",
       "      <td>7.0</td>\n",
       "      <td>1.6</td>\n",
       "      <td>0.5</td>\n",
       "      <td>2.7</td>\n",
       "      <td>2.3</td>\n",
       "      <td>21.6</td>\n",
       "      <td>1</td>\n",
       "    </tr>\n",
       "    <tr>\n",
       "      <th>570</th>\n",
       "      <td>Andrew Wiggins</td>\n",
       "      <td>SF</td>\n",
       "      <td>26</td>\n",
       "      <td>GSW</td>\n",
       "      <td>54</td>\n",
       "      <td>54</td>\n",
       "      <td>31.7</td>\n",
       "      <td>6.7</td>\n",
       "      <td>13.9</td>\n",
       "      <td>0.481</td>\n",
       "      <td>...</td>\n",
       "      <td>1.0</td>\n",
       "      <td>3.2</td>\n",
       "      <td>4.2</td>\n",
       "      <td>2.1</td>\n",
       "      <td>1.0</td>\n",
       "      <td>0.7</td>\n",
       "      <td>1.5</td>\n",
       "      <td>1.9</td>\n",
       "      <td>17.7</td>\n",
       "      <td>1</td>\n",
       "    </tr>\n",
       "    <tr>\n",
       "      <th>589</th>\n",
       "      <td>Trae Young</td>\n",
       "      <td>PG</td>\n",
       "      <td>23</td>\n",
       "      <td>ATL</td>\n",
       "      <td>53</td>\n",
       "      <td>53</td>\n",
       "      <td>34.4</td>\n",
       "      <td>9.3</td>\n",
       "      <td>20.5</td>\n",
       "      <td>0.456</td>\n",
       "      <td>...</td>\n",
       "      <td>0.6</td>\n",
       "      <td>3.2</td>\n",
       "      <td>3.9</td>\n",
       "      <td>9.3</td>\n",
       "      <td>1.0</td>\n",
       "      <td>0.1</td>\n",
       "      <td>4.1</td>\n",
       "      <td>1.6</td>\n",
       "      <td>27.8</td>\n",
       "      <td>1</td>\n",
       "    </tr>\n",
       "  </tbody>\n",
       "</table>\n",
       "<p>27 rows × 30 columns</p>\n",
       "</div>"
      ],
      "text/plain": [
       "                    Player Pos  Age   Tm   G  GS    MP    FG   FGA    FG%  \\\n",
       "Rk                                                                          \n",
       "8            Jarrett Allen   C   23  CLE  50  50  32.6   6.6   9.9  0.666   \n",
       "12   Giannis Antetokounmpo  PF   27  MIL  48  48  32.6  10.1  18.4  0.547   \n",
       "24             LaMelo Ball  PG   20  CHO  52  52  32.6   7.2  16.9  0.425   \n",
       "58            Devin Booker  SG   25  PHO  51  51  34.1   9.3  20.8  0.446   \n",
       "86            Jimmy Butler  SF   32  MIA  39  39  33.9   7.2  14.7  0.490   \n",
       "124          Stephen Curry  PG   33  GSW  54  54  34.8   8.4  19.6  0.427   \n",
       "132          DeMar DeRozan  PF   32  CHI  55  55  35.6  10.3  19.9  0.517   \n",
       "139            Luka Doncic  PG   22  DAL  43  43  35.4   9.6  21.3  0.448   \n",
       "151           Kevin Durant  PF   33  BRK  36  36  36.5  10.5  20.3  0.520   \n",
       "158            Joel Embiid   C   27  PHI  45  45  32.8   9.4  19.2  0.491   \n",
       "178         Darius Garland  PG   22  CLE  47  47  34.6   7.8  16.3  0.477   \n",
       "189            Rudy Gobert   C   29  UTA  44  44  32.1   5.6   7.9  0.711   \n",
       "198         Draymond Green  PF   31  GSW  34  34  29.9   3.2   5.9  0.537   \n",
       "212           James Harden  PG   32  BRK  44  44  37.0   6.6  16.0  0.414   \n",
       "267           LeBron James  SF   37  LAL  41  41  36.8  11.0  21.2  0.522   \n",
       "283           Nikola Jokic   C   26  DEN  52  52  33.0   9.9  17.4  0.570   \n",
       "317            Zach LaVine  SF   26  CHI  47  47  34.6   8.7  18.1  0.482   \n",
       "369        Khris Middleton  SF   30  MIL  47  47  32.0   6.6  14.9  0.442   \n",
       "375       Donovan Mitchell  SG   25  UTA  46  46  33.4   9.3  20.3  0.456   \n",
       "382              Ja Morant  PG   22  MEM  46  46  33.2  10.0  20.2  0.495   \n",
       "392        Dejounte Murray  PG   25  SAS  52  52  34.4   8.2  17.9  0.459   \n",
       "429             Chris Paul  PG   36  PHO  58  58  33.0   5.6  11.5  0.487   \n",
       "515           Jayson Tatum  SF   23  BOS  56  56  36.1   8.9  20.6  0.434   \n",
       "535     Karl-Anthony Towns   C   26  MIN  52  52  34.3   8.7  16.7  0.522   \n",
       "543          Fred VanVleet  PG   27  TOR  50  50  38.4   7.3  17.3  0.419   \n",
       "570         Andrew Wiggins  SF   26  GSW  54  54  31.7   6.7  13.9  0.481   \n",
       "589             Trae Young  PG   23  ATL  53  53  34.4   9.3  20.5  0.456   \n",
       "\n",
       "     ...  ORB   DRB   TRB   AST  STL  BLK  TOV   PF   PTS  ALLSTAR  \n",
       "Rk   ...                                                            \n",
       "8    ...  3.6   7.4  11.0   1.8  0.7  1.3  1.8  1.8  16.2        1  \n",
       "12   ...  1.9   9.4  11.3   6.0  0.9  1.4  3.3  3.2  29.4        1  \n",
       "24   ...  1.6   5.4   7.0   7.4  1.6  0.4  3.1  3.2  20.2        1  \n",
       "58   ...  0.8   4.4   5.2   4.5  1.0  0.4  2.4  2.5  25.5        1  \n",
       "86   ...  1.9   4.4   6.3   5.9  1.8  0.4  2.1  1.5  21.9        1  \n",
       "124  ...  0.6   4.7   5.3   6.3  1.4  0.4  3.2  2.1  25.8        1  \n",
       "132  ...  0.8   4.4   5.2   5.1  0.9  0.3  2.3  2.2  28.1        1  \n",
       "139  ...  0.9   8.2   9.0   9.0  1.2  0.5  4.4  2.4  27.0        1  \n",
       "151  ...  0.6   6.9   7.4   5.8  0.8  0.9  3.0  1.9  29.3        1  \n",
       "158  ...  2.0   9.1  11.1   4.5  1.0  1.5  2.9  2.6  29.3        1  \n",
       "178  ...  0.5   2.8   3.3   8.0  1.2  0.1  3.7  1.7  20.3        1  \n",
       "189  ...  3.5  11.3  14.8   1.2  0.8  2.3  1.8  2.7  15.7        1  \n",
       "198  ...  1.1   6.4   7.6   7.4  1.4  1.2  3.1  2.8   7.9        1  \n",
       "212  ...  1.0   7.0   8.0  10.2  1.3  0.7  4.8  2.4  22.5        1  \n",
       "267  ...  1.1   6.8   7.9   6.5  1.6  1.0  3.2  2.2  29.1        1  \n",
       "283  ...  2.8  11.0  13.8   7.9  1.3  0.8  3.8  2.5  26.0        1  \n",
       "317  ...  0.3   4.6   4.9   4.5  0.6  0.4  2.7  1.7  24.6        1  \n",
       "369  ...  0.6   4.9   5.5   5.3  1.2  0.3  3.0  2.5  19.4        1  \n",
       "375  ...  0.9   3.3   4.2   5.2  1.6  0.3  2.9  2.4  25.7        1  \n",
       "382  ...  1.3   4.5   5.8   6.9  1.2  0.4  3.4  1.5  26.8        1  \n",
       "392  ...  1.3   7.0   8.3   9.3  2.0  0.3  2.4  2.0  19.9        1  \n",
       "429  ...  0.3   4.2   4.5  10.7  1.9  0.3  2.4  2.0  14.9        1  \n",
       "515  ...  1.2   7.2   8.4   4.2  1.0  0.7  2.9  2.3  25.7        1  \n",
       "535  ...  2.8   6.9   9.7   4.0  1.0  1.1  3.3  3.6  24.4        1  \n",
       "543  ...  0.8   3.8   4.6   7.0  1.6  0.5  2.7  2.3  21.6        1  \n",
       "570  ...  1.0   3.2   4.2   2.1  1.0  0.7  1.5  1.9  17.7        1  \n",
       "589  ...  0.6   3.2   3.9   9.3  1.0  0.1  4.1  1.6  27.8        1  \n",
       "\n",
       "[27 rows x 30 columns]"
      ]
     },
     "execution_count": 9,
     "metadata": {},
     "output_type": "execute_result"
    }
   ],
   "source": [
    "df[df['Player'].isin(['Trae Young', 'DeMar DeRozan', 'Joel Embiid', 'Kevin Durant', 'Giannis Antetokounmpo', 'LaMelo Ball', \n",
    "'Darius Garland', 'James Harden', 'Zach LaVine', 'Fred VanVleet', 'Jimmy Butler', 'Khris Middleton', 'Jayson Tatum', 'Jarrett Allen',\n",
    "'Stephen Curry', 'Ja Morant', 'Nikola Jokic', 'LeBron James', 'Andrew Wiggins', 'Devin Booker', 'Luka Doncic', 'Donovan Mitchell', \n",
    "'Dejounte Murray', 'Chris Paul', 'Draymond Green', 'Rudy Gobert', 'Karl-Anthony Towns'])]"
   ]
  },
  {
   "cell_type": "code",
   "execution_count": 10,
   "metadata": {},
   "outputs": [
    {
     "data": {
      "text/html": [
       "<div>\n",
       "<style scoped>\n",
       "    .dataframe tbody tr th:only-of-type {\n",
       "        vertical-align: middle;\n",
       "    }\n",
       "\n",
       "    .dataframe tbody tr th {\n",
       "        vertical-align: top;\n",
       "    }\n",
       "\n",
       "    .dataframe thead th {\n",
       "        text-align: right;\n",
       "    }\n",
       "</style>\n",
       "<table border=\"1\" class=\"dataframe\">\n",
       "  <thead>\n",
       "    <tr style=\"text-align: right;\">\n",
       "      <th></th>\n",
       "      <th>Player</th>\n",
       "      <th>Pos</th>\n",
       "      <th>Age</th>\n",
       "      <th>Tm</th>\n",
       "      <th>G</th>\n",
       "      <th>GS</th>\n",
       "      <th>MP</th>\n",
       "      <th>FG</th>\n",
       "      <th>FGA</th>\n",
       "      <th>FG%</th>\n",
       "      <th>...</th>\n",
       "      <th>ORB</th>\n",
       "      <th>DRB</th>\n",
       "      <th>TRB</th>\n",
       "      <th>AST</th>\n",
       "      <th>STL</th>\n",
       "      <th>BLK</th>\n",
       "      <th>TOV</th>\n",
       "      <th>PF</th>\n",
       "      <th>PTS</th>\n",
       "      <th>ALLSTAR</th>\n",
       "    </tr>\n",
       "    <tr>\n",
       "      <th>Rk</th>\n",
       "      <th></th>\n",
       "      <th></th>\n",
       "      <th></th>\n",
       "      <th></th>\n",
       "      <th></th>\n",
       "      <th></th>\n",
       "      <th></th>\n",
       "      <th></th>\n",
       "      <th></th>\n",
       "      <th></th>\n",
       "      <th></th>\n",
       "      <th></th>\n",
       "      <th></th>\n",
       "      <th></th>\n",
       "      <th></th>\n",
       "      <th></th>\n",
       "      <th></th>\n",
       "      <th></th>\n",
       "      <th></th>\n",
       "      <th></th>\n",
       "      <th></th>\n",
       "    </tr>\n",
       "  </thead>\n",
       "  <tbody>\n",
       "    <tr>\n",
       "      <th>526</th>\n",
       "      <td>Klay Thompson</td>\n",
       "      <td>SG</td>\n",
       "      <td>31</td>\n",
       "      <td>GSW</td>\n",
       "      <td>16</td>\n",
       "      <td>16</td>\n",
       "      <td>25.3</td>\n",
       "      <td>6.2</td>\n",
       "      <td>14.8</td>\n",
       "      <td>0.418</td>\n",
       "      <td>...</td>\n",
       "      <td>0.4</td>\n",
       "      <td>3.4</td>\n",
       "      <td>3.8</td>\n",
       "      <td>3.1</td>\n",
       "      <td>0.6</td>\n",
       "      <td>0.4</td>\n",
       "      <td>1.4</td>\n",
       "      <td>1.5</td>\n",
       "      <td>17.1</td>\n",
       "      <td>0</td>\n",
       "    </tr>\n",
       "  </tbody>\n",
       "</table>\n",
       "<p>1 rows × 30 columns</p>\n",
       "</div>"
      ],
      "text/plain": [
       "            Player Pos  Age   Tm   G  GS    MP   FG   FGA    FG%  ...  ORB  \\\n",
       "Rk                                                                ...        \n",
       "526  Klay Thompson  SG   31  GSW  16  16  25.3  6.2  14.8  0.418  ...  0.4   \n",
       "\n",
       "     DRB  TRB  AST  STL  BLK  TOV   PF   PTS  ALLSTAR  \n",
       "Rk                                                     \n",
       "526  3.4  3.8  3.1  0.6  0.4  1.4  1.5  17.1        0  \n",
       "\n",
       "[1 rows x 30 columns]"
      ]
     },
     "execution_count": 10,
     "metadata": {},
     "output_type": "execute_result"
    }
   ],
   "source": [
    "df[df['Player'].isin(['Klay Thompson'])]"
   ]
  },
  {
   "cell_type": "code",
   "execution_count": 11,
   "metadata": {},
   "outputs": [
    {
     "name": "stdout",
     "output_type": "stream",
     "text": [
      "Empty DataFrame\n",
      "Columns: [Player, Pos, Age, Tm, G, GS, MP, FG, FGA, FG%, 3P, 3PA, 3P%, 2P, 2PA, 2P%, eFG%, FT, FTA, FT%, ORB, DRB, TRB, AST, STL, BLK, TOV, PF, PTS, ALLSTAR]\n",
      "Index: []\n",
      "\n",
      "[0 rows x 30 columns]\n"
     ]
    }
   ],
   "source": [
    "dups=df.duplicated()\n",
    "print(df[dups])"
   ]
  },
  {
   "cell_type": "code",
   "execution_count": 12,
   "metadata": {},
   "outputs": [
    {
     "name": "stdout",
     "output_type": "stream",
     "text": [
      "                       Player Pos  Age   Tm   G  GS    MP   FG   FGA    FG%  \\\n",
      "Rk                                                                            \n",
      "6    Nickeil Alexander-Walker  SG   23  NOP  50  19  26.3  4.7  12.6  0.375   \n",
      "6    Nickeil Alexander-Walker  SG   23  UTA   2   0   2.5  0.0   0.5  0.000   \n",
      "10            Justin Anderson  SF   28  CLE   3   0  15.7  1.3   2.7  0.500   \n",
      "10            Justin Anderson  SF   28  IND   3   0  10.0  0.7   3.7  0.182   \n",
      "23          Marvin Bagley III  PF   22  SAC  30  17  21.9  3.8   8.2  0.463   \n",
      "..                        ...  ..  ...  ...  ..  ..   ...  ...   ...    ...   \n",
      "566             Derrick White  SG   27  BOS   4   1  30.3  4.3  11.3  0.378   \n",
      "581           Justise Winslow  SF   25  LAC  37   1  12.9  1.7   3.8  0.447   \n",
      "581           Justise Winslow  SF   25  POR   6   5  31.3  4.8  10.5  0.460   \n",
      "588            Thaddeus Young  PF   33  SAS  26   1  14.2  2.8   4.9  0.578   \n",
      "588            Thaddeus Young  PF   33  TOR   2   0  16.5  3.5   7.0  0.500   \n",
      "\n",
      "     ...  ORB  DRB  TRB  AST  STL  BLK  TOV   PF   PTS  ALLSTAR  \n",
      "Rk   ...                                                         \n",
      "6    ...  0.7  2.6  3.3  2.8  0.8  0.4  1.7  1.8  12.8        0  \n",
      "6    ...  0.0  0.5  0.5  0.0  0.0  0.0  0.0  0.0   0.0        0  \n",
      "10   ...  0.0  2.0  2.0  2.0  0.3  0.0  0.7  1.3   4.3        0  \n",
      "10   ...  0.7  0.7  1.3  1.0  0.3  0.3  0.3  1.7   2.7        0  \n",
      "23   ...  2.2  4.9  7.2  0.6  0.3  0.4  0.7  1.7   9.3        0  \n",
      "..   ...  ...  ...  ...  ...  ...  ...  ...  ...   ...      ...  \n",
      "566  ...  1.0  3.3  4.3  3.8  1.8  1.0  1.5  3.0  12.3        0  \n",
      "581  ...  0.8  2.8  3.6  1.4  0.6  0.5  1.0  1.2   4.2        0  \n",
      "581  ...  1.7  5.7  7.3  3.3  1.7  0.8  1.3  2.0  12.0        0  \n",
      "588  ...  1.5  2.0  3.6  2.3  0.9  0.3  1.2  1.5   6.1        0  \n",
      "588  ...  2.0  2.5  4.5  1.0  1.0  0.5  1.5  1.5   7.0        0  \n",
      "\n",
      "[142 rows x 30 columns]\n"
     ]
    }
   ],
   "source": [
    "tradedPlayers = df[df.duplicated(['Player'])]\n",
    "print(tradedPlayers)"
   ]
  },
  {
   "cell_type": "code",
   "execution_count": null,
   "metadata": {},
   "outputs": [],
   "source": []
  },
  {
   "cell_type": "code",
   "execution_count": 13,
   "metadata": {},
   "outputs": [
    {
     "name": "stdout",
     "output_type": "stream",
     "text": [
      "Dataset obsahuje celkovo 0 chýbajúcich hodnôt\n"
     ]
    }
   ],
   "source": [
    "print(\"Dataset obsahuje celkovo %d chýbajúcich hodnôt\"%int(df.shape[0] - df.dropna().shape[0]))"
   ]
  },
  {
   "cell_type": "code",
   "execution_count": 14,
   "metadata": {},
   "outputs": [
    {
     "data": {
      "text/html": [
       "<div>\n",
       "<style scoped>\n",
       "    .dataframe tbody tr th:only-of-type {\n",
       "        vertical-align: middle;\n",
       "    }\n",
       "\n",
       "    .dataframe tbody tr th {\n",
       "        vertical-align: top;\n",
       "    }\n",
       "\n",
       "    .dataframe thead th {\n",
       "        text-align: right;\n",
       "    }\n",
       "</style>\n",
       "<table border=\"1\" class=\"dataframe\">\n",
       "  <thead>\n",
       "    <tr style=\"text-align: right;\">\n",
       "      <th></th>\n",
       "      <th>Age</th>\n",
       "      <th>G</th>\n",
       "      <th>GS</th>\n",
       "      <th>MP</th>\n",
       "      <th>FG</th>\n",
       "      <th>FGA</th>\n",
       "      <th>FG%</th>\n",
       "      <th>3P</th>\n",
       "      <th>3PA</th>\n",
       "      <th>3P%</th>\n",
       "      <th>...</th>\n",
       "      <th>ORB</th>\n",
       "      <th>DRB</th>\n",
       "      <th>TRB</th>\n",
       "      <th>AST</th>\n",
       "      <th>STL</th>\n",
       "      <th>BLK</th>\n",
       "      <th>TOV</th>\n",
       "      <th>PF</th>\n",
       "      <th>PTS</th>\n",
       "      <th>ALLSTAR</th>\n",
       "    </tr>\n",
       "  </thead>\n",
       "  <tbody>\n",
       "    <tr>\n",
       "      <th>Age</th>\n",
       "      <td>1.000000</td>\n",
       "      <td>0.056058</td>\n",
       "      <td>0.073058</td>\n",
       "      <td>0.194370</td>\n",
       "      <td>0.140328</td>\n",
       "      <td>0.133415</td>\n",
       "      <td>0.087729</td>\n",
       "      <td>0.156460</td>\n",
       "      <td>0.137385</td>\n",
       "      <td>0.129006</td>\n",
       "      <td>...</td>\n",
       "      <td>0.067567</td>\n",
       "      <td>0.157399</td>\n",
       "      <td>0.142086</td>\n",
       "      <td>0.188638</td>\n",
       "      <td>0.108185</td>\n",
       "      <td>0.090543</td>\n",
       "      <td>0.118159</td>\n",
       "      <td>0.186133</td>\n",
       "      <td>0.142032</td>\n",
       "      <td>0.065101</td>\n",
       "    </tr>\n",
       "    <tr>\n",
       "      <th>G</th>\n",
       "      <td>0.056058</td>\n",
       "      <td>1.000000</td>\n",
       "      <td>0.665081</td>\n",
       "      <td>0.633563</td>\n",
       "      <td>0.552498</td>\n",
       "      <td>0.542508</td>\n",
       "      <td>0.291616</td>\n",
       "      <td>0.462582</td>\n",
       "      <td>0.455928</td>\n",
       "      <td>0.342202</td>\n",
       "      <td>...</td>\n",
       "      <td>0.299864</td>\n",
       "      <td>0.504509</td>\n",
       "      <td>0.480867</td>\n",
       "      <td>0.389125</td>\n",
       "      <td>0.433872</td>\n",
       "      <td>0.313493</td>\n",
       "      <td>0.443334</td>\n",
       "      <td>0.475367</td>\n",
       "      <td>0.554484</td>\n",
       "      <td>0.197619</td>\n",
       "    </tr>\n",
       "    <tr>\n",
       "      <th>GS</th>\n",
       "      <td>0.073058</td>\n",
       "      <td>0.665081</td>\n",
       "      <td>1.000000</td>\n",
       "      <td>0.764197</td>\n",
       "      <td>0.728904</td>\n",
       "      <td>0.715527</td>\n",
       "      <td>0.217586</td>\n",
       "      <td>0.521761</td>\n",
       "      <td>0.525951</td>\n",
       "      <td>0.200459</td>\n",
       "      <td>...</td>\n",
       "      <td>0.365049</td>\n",
       "      <td>0.649852</td>\n",
       "      <td>0.613295</td>\n",
       "      <td>0.580854</td>\n",
       "      <td>0.526683</td>\n",
       "      <td>0.401508</td>\n",
       "      <td>0.636659</td>\n",
       "      <td>0.547077</td>\n",
       "      <td>0.727546</td>\n",
       "      <td>0.372403</td>\n",
       "    </tr>\n",
       "    <tr>\n",
       "      <th>MP</th>\n",
       "      <td>0.194370</td>\n",
       "      <td>0.633563</td>\n",
       "      <td>0.764197</td>\n",
       "      <td>1.000000</td>\n",
       "      <td>0.890861</td>\n",
       "      <td>0.897971</td>\n",
       "      <td>0.306448</td>\n",
       "      <td>0.724485</td>\n",
       "      <td>0.735189</td>\n",
       "      <td>0.362068</td>\n",
       "      <td>...</td>\n",
       "      <td>0.366895</td>\n",
       "      <td>0.760373</td>\n",
       "      <td>0.697376</td>\n",
       "      <td>0.738968</td>\n",
       "      <td>0.705469</td>\n",
       "      <td>0.450094</td>\n",
       "      <td>0.756032</td>\n",
       "      <td>0.752087</td>\n",
       "      <td>0.892599</td>\n",
       "      <td>0.312108</td>\n",
       "    </tr>\n",
       "    <tr>\n",
       "      <th>FG</th>\n",
       "      <td>0.140328</td>\n",
       "      <td>0.552498</td>\n",
       "      <td>0.728904</td>\n",
       "      <td>0.890861</td>\n",
       "      <td>1.000000</td>\n",
       "      <td>0.969978</td>\n",
       "      <td>0.359642</td>\n",
       "      <td>0.689764</td>\n",
       "      <td>0.688423</td>\n",
       "      <td>0.323302</td>\n",
       "      <td>...</td>\n",
       "      <td>0.382519</td>\n",
       "      <td>0.750845</td>\n",
       "      <td>0.695048</td>\n",
       "      <td>0.733232</td>\n",
       "      <td>0.601840</td>\n",
       "      <td>0.410076</td>\n",
       "      <td>0.811571</td>\n",
       "      <td>0.651023</td>\n",
       "      <td>0.990747</td>\n",
       "      <td>0.458598</td>\n",
       "    </tr>\n",
       "    <tr>\n",
       "      <th>FGA</th>\n",
       "      <td>0.133415</td>\n",
       "      <td>0.542508</td>\n",
       "      <td>0.715527</td>\n",
       "      <td>0.897971</td>\n",
       "      <td>0.969978</td>\n",
       "      <td>1.000000</td>\n",
       "      <td>0.211101</td>\n",
       "      <td>0.769830</td>\n",
       "      <td>0.799473</td>\n",
       "      <td>0.324096</td>\n",
       "      <td>...</td>\n",
       "      <td>0.268793</td>\n",
       "      <td>0.686428</td>\n",
       "      <td>0.609714</td>\n",
       "      <td>0.763628</td>\n",
       "      <td>0.621276</td>\n",
       "      <td>0.338282</td>\n",
       "      <td>0.820246</td>\n",
       "      <td>0.610286</td>\n",
       "      <td>0.976309</td>\n",
       "      <td>0.431362</td>\n",
       "    </tr>\n",
       "    <tr>\n",
       "      <th>FG%</th>\n",
       "      <td>0.087729</td>\n",
       "      <td>0.291616</td>\n",
       "      <td>0.217586</td>\n",
       "      <td>0.306448</td>\n",
       "      <td>0.359642</td>\n",
       "      <td>0.211101</td>\n",
       "      <td>1.000000</td>\n",
       "      <td>0.083460</td>\n",
       "      <td>0.000791</td>\n",
       "      <td>0.277679</td>\n",
       "      <td>...</td>\n",
       "      <td>0.372324</td>\n",
       "      <td>0.367826</td>\n",
       "      <td>0.399661</td>\n",
       "      <td>0.127498</td>\n",
       "      <td>0.178006</td>\n",
       "      <td>0.342218</td>\n",
       "      <td>0.204144</td>\n",
       "      <td>0.404990</td>\n",
       "      <td>0.320946</td>\n",
       "      <td>0.089327</td>\n",
       "    </tr>\n",
       "    <tr>\n",
       "      <th>3P</th>\n",
       "      <td>0.156460</td>\n",
       "      <td>0.462582</td>\n",
       "      <td>0.521761</td>\n",
       "      <td>0.724485</td>\n",
       "      <td>0.689764</td>\n",
       "      <td>0.769830</td>\n",
       "      <td>0.083460</td>\n",
       "      <td>1.000000</td>\n",
       "      <td>0.967172</td>\n",
       "      <td>0.496118</td>\n",
       "      <td>...</td>\n",
       "      <td>-0.083790</td>\n",
       "      <td>0.362586</td>\n",
       "      <td>0.251558</td>\n",
       "      <td>0.553206</td>\n",
       "      <td>0.471315</td>\n",
       "      <td>0.110649</td>\n",
       "      <td>0.548766</td>\n",
       "      <td>0.404815</td>\n",
       "      <td>0.737822</td>\n",
       "      <td>0.253152</td>\n",
       "    </tr>\n",
       "    <tr>\n",
       "      <th>3PA</th>\n",
       "      <td>0.137385</td>\n",
       "      <td>0.455928</td>\n",
       "      <td>0.525951</td>\n",
       "      <td>0.735189</td>\n",
       "      <td>0.688423</td>\n",
       "      <td>0.799473</td>\n",
       "      <td>0.000791</td>\n",
       "      <td>0.967172</td>\n",
       "      <td>1.000000</td>\n",
       "      <td>0.402774</td>\n",
       "      <td>...</td>\n",
       "      <td>-0.107466</td>\n",
       "      <td>0.371459</td>\n",
       "      <td>0.250454</td>\n",
       "      <td>0.584658</td>\n",
       "      <td>0.500623</td>\n",
       "      <td>0.105558</td>\n",
       "      <td>0.580632</td>\n",
       "      <td>0.403108</td>\n",
       "      <td>0.736809</td>\n",
       "      <td>0.253553</td>\n",
       "    </tr>\n",
       "    <tr>\n",
       "      <th>3P%</th>\n",
       "      <td>0.129006</td>\n",
       "      <td>0.342202</td>\n",
       "      <td>0.200459</td>\n",
       "      <td>0.362068</td>\n",
       "      <td>0.323302</td>\n",
       "      <td>0.324096</td>\n",
       "      <td>0.277679</td>\n",
       "      <td>0.496118</td>\n",
       "      <td>0.402774</td>\n",
       "      <td>1.000000</td>\n",
       "      <td>...</td>\n",
       "      <td>-0.007644</td>\n",
       "      <td>0.164147</td>\n",
       "      <td>0.124222</td>\n",
       "      <td>0.212080</td>\n",
       "      <td>0.202595</td>\n",
       "      <td>0.078387</td>\n",
       "      <td>0.195708</td>\n",
       "      <td>0.272841</td>\n",
       "      <td>0.343052</td>\n",
       "      <td>0.060383</td>\n",
       "    </tr>\n",
       "    <tr>\n",
       "      <th>2P</th>\n",
       "      <td>0.102447</td>\n",
       "      <td>0.476846</td>\n",
       "      <td>0.672566</td>\n",
       "      <td>0.778804</td>\n",
       "      <td>0.934707</td>\n",
       "      <td>0.857127</td>\n",
       "      <td>0.416850</td>\n",
       "      <td>0.388007</td>\n",
       "      <td>0.401838</td>\n",
       "      <td>0.168529</td>\n",
       "      <td>...</td>\n",
       "      <td>0.527271</td>\n",
       "      <td>0.777859</td>\n",
       "      <td>0.761106</td>\n",
       "      <td>0.661594</td>\n",
       "      <td>0.534116</td>\n",
       "      <td>0.467843</td>\n",
       "      <td>0.763788</td>\n",
       "      <td>0.630196</td>\n",
       "      <td>0.899501</td>\n",
       "      <td>0.460093</td>\n",
       "    </tr>\n",
       "    <tr>\n",
       "      <th>2PA</th>\n",
       "      <td>0.099974</td>\n",
       "      <td>0.475605</td>\n",
       "      <td>0.680929</td>\n",
       "      <td>0.801753</td>\n",
       "      <td>0.940246</td>\n",
       "      <td>0.906195</td>\n",
       "      <td>0.309296</td>\n",
       "      <td>0.449981</td>\n",
       "      <td>0.470595</td>\n",
       "      <td>0.192949</td>\n",
       "      <td>...</td>\n",
       "      <td>0.470085</td>\n",
       "      <td>0.746758</td>\n",
       "      <td>0.719134</td>\n",
       "      <td>0.710902</td>\n",
       "      <td>0.560142</td>\n",
       "      <td>0.422382</td>\n",
       "      <td>0.796701</td>\n",
       "      <td>0.613249</td>\n",
       "      <td>0.915507</td>\n",
       "      <td>0.455555</td>\n",
       "    </tr>\n",
       "    <tr>\n",
       "      <th>2P%</th>\n",
       "      <td>0.073143</td>\n",
       "      <td>0.268256</td>\n",
       "      <td>0.181877</td>\n",
       "      <td>0.279813</td>\n",
       "      <td>0.304630</td>\n",
       "      <td>0.187902</td>\n",
       "      <td>0.828751</td>\n",
       "      <td>0.100810</td>\n",
       "      <td>0.076526</td>\n",
       "      <td>0.136301</td>\n",
       "      <td>...</td>\n",
       "      <td>0.254394</td>\n",
       "      <td>0.309899</td>\n",
       "      <td>0.317870</td>\n",
       "      <td>0.113867</td>\n",
       "      <td>0.170709</td>\n",
       "      <td>0.249406</td>\n",
       "      <td>0.175277</td>\n",
       "      <td>0.360728</td>\n",
       "      <td>0.273843</td>\n",
       "      <td>0.064265</td>\n",
       "    </tr>\n",
       "    <tr>\n",
       "      <th>eFG%</th>\n",
       "      <td>0.113006</td>\n",
       "      <td>0.331759</td>\n",
       "      <td>0.227364</td>\n",
       "      <td>0.355163</td>\n",
       "      <td>0.371944</td>\n",
       "      <td>0.250274</td>\n",
       "      <td>0.958305</td>\n",
       "      <td>0.252707</td>\n",
       "      <td>0.155920</td>\n",
       "      <td>0.457146</td>\n",
       "      <td>...</td>\n",
       "      <td>0.268862</td>\n",
       "      <td>0.336357</td>\n",
       "      <td>0.343118</td>\n",
       "      <td>0.146186</td>\n",
       "      <td>0.199547</td>\n",
       "      <td>0.291587</td>\n",
       "      <td>0.201545</td>\n",
       "      <td>0.401133</td>\n",
       "      <td>0.350615</td>\n",
       "      <td>0.077782</td>\n",
       "    </tr>\n",
       "    <tr>\n",
       "      <th>FT</th>\n",
       "      <td>0.089077</td>\n",
       "      <td>0.427622</td>\n",
       "      <td>0.608149</td>\n",
       "      <td>0.700900</td>\n",
       "      <td>0.817366</td>\n",
       "      <td>0.799282</td>\n",
       "      <td>0.230913</td>\n",
       "      <td>0.470496</td>\n",
       "      <td>0.493470</td>\n",
       "      <td>0.183281</td>\n",
       "      <td>...</td>\n",
       "      <td>0.324749</td>\n",
       "      <td>0.663293</td>\n",
       "      <td>0.609939</td>\n",
       "      <td>0.656734</td>\n",
       "      <td>0.491066</td>\n",
       "      <td>0.362377</td>\n",
       "      <td>0.742842</td>\n",
       "      <td>0.533872</td>\n",
       "      <td>0.863227</td>\n",
       "      <td>0.540550</td>\n",
       "    </tr>\n",
       "    <tr>\n",
       "      <th>FTA</th>\n",
       "      <td>0.080492</td>\n",
       "      <td>0.426992</td>\n",
       "      <td>0.608608</td>\n",
       "      <td>0.696545</td>\n",
       "      <td>0.812947</td>\n",
       "      <td>0.779554</td>\n",
       "      <td>0.261170</td>\n",
       "      <td>0.413346</td>\n",
       "      <td>0.434436</td>\n",
       "      <td>0.157297</td>\n",
       "      <td>...</td>\n",
       "      <td>0.405521</td>\n",
       "      <td>0.704784</td>\n",
       "      <td>0.667110</td>\n",
       "      <td>0.639131</td>\n",
       "      <td>0.482137</td>\n",
       "      <td>0.401879</td>\n",
       "      <td>0.735186</td>\n",
       "      <td>0.557389</td>\n",
       "      <td>0.847799</td>\n",
       "      <td>0.521333</td>\n",
       "    </tr>\n",
       "    <tr>\n",
       "      <th>FT%</th>\n",
       "      <td>0.054216</td>\n",
       "      <td>0.539599</td>\n",
       "      <td>0.319759</td>\n",
       "      <td>0.493463</td>\n",
       "      <td>0.426660</td>\n",
       "      <td>0.438655</td>\n",
       "      <td>0.251958</td>\n",
       "      <td>0.417532</td>\n",
       "      <td>0.412404</td>\n",
       "      <td>0.355410</td>\n",
       "      <td>...</td>\n",
       "      <td>0.136306</td>\n",
       "      <td>0.333594</td>\n",
       "      <td>0.298205</td>\n",
       "      <td>0.325998</td>\n",
       "      <td>0.336474</td>\n",
       "      <td>0.167805</td>\n",
       "      <td>0.328794</td>\n",
       "      <td>0.396752</td>\n",
       "      <td>0.461068</td>\n",
       "      <td>0.114975</td>\n",
       "    </tr>\n",
       "    <tr>\n",
       "      <th>ORB</th>\n",
       "      <td>0.067567</td>\n",
       "      <td>0.299864</td>\n",
       "      <td>0.365049</td>\n",
       "      <td>0.366895</td>\n",
       "      <td>0.382519</td>\n",
       "      <td>0.268793</td>\n",
       "      <td>0.372324</td>\n",
       "      <td>-0.083790</td>\n",
       "      <td>-0.107466</td>\n",
       "      <td>-0.007644</td>\n",
       "      <td>...</td>\n",
       "      <td>1.000000</td>\n",
       "      <td>0.654762</td>\n",
       "      <td>0.814097</td>\n",
       "      <td>0.120469</td>\n",
       "      <td>0.229026</td>\n",
       "      <td>0.579443</td>\n",
       "      <td>0.298644</td>\n",
       "      <td>0.524141</td>\n",
       "      <td>0.332566</td>\n",
       "      <td>0.132441</td>\n",
       "    </tr>\n",
       "    <tr>\n",
       "      <th>DRB</th>\n",
       "      <td>0.157399</td>\n",
       "      <td>0.504509</td>\n",
       "      <td>0.649852</td>\n",
       "      <td>0.760373</td>\n",
       "      <td>0.750845</td>\n",
       "      <td>0.686428</td>\n",
       "      <td>0.367826</td>\n",
       "      <td>0.362586</td>\n",
       "      <td>0.371459</td>\n",
       "      <td>0.164147</td>\n",
       "      <td>...</td>\n",
       "      <td>0.654762</td>\n",
       "      <td>1.000000</td>\n",
       "      <td>0.971743</td>\n",
       "      <td>0.537664</td>\n",
       "      <td>0.525878</td>\n",
       "      <td>0.606604</td>\n",
       "      <td>0.657162</td>\n",
       "      <td>0.690390</td>\n",
       "      <td>0.732211</td>\n",
       "      <td>0.363146</td>\n",
       "    </tr>\n",
       "    <tr>\n",
       "      <th>TRB</th>\n",
       "      <td>0.142086</td>\n",
       "      <td>0.480867</td>\n",
       "      <td>0.613295</td>\n",
       "      <td>0.697376</td>\n",
       "      <td>0.695048</td>\n",
       "      <td>0.609714</td>\n",
       "      <td>0.399661</td>\n",
       "      <td>0.251558</td>\n",
       "      <td>0.250454</td>\n",
       "      <td>0.124222</td>\n",
       "      <td>...</td>\n",
       "      <td>0.814097</td>\n",
       "      <td>0.971743</td>\n",
       "      <td>1.000000</td>\n",
       "      <td>0.449377</td>\n",
       "      <td>0.474370</td>\n",
       "      <td>0.646703</td>\n",
       "      <td>0.596885</td>\n",
       "      <td>0.692953</td>\n",
       "      <td>0.665155</td>\n",
       "      <td>0.320119</td>\n",
       "    </tr>\n",
       "    <tr>\n",
       "      <th>AST</th>\n",
       "      <td>0.188638</td>\n",
       "      <td>0.389125</td>\n",
       "      <td>0.580854</td>\n",
       "      <td>0.738968</td>\n",
       "      <td>0.733232</td>\n",
       "      <td>0.763628</td>\n",
       "      <td>0.127498</td>\n",
       "      <td>0.553206</td>\n",
       "      <td>0.584658</td>\n",
       "      <td>0.212080</td>\n",
       "      <td>...</td>\n",
       "      <td>0.120469</td>\n",
       "      <td>0.537664</td>\n",
       "      <td>0.449377</td>\n",
       "      <td>1.000000</td>\n",
       "      <td>0.656932</td>\n",
       "      <td>0.178940</td>\n",
       "      <td>0.827618</td>\n",
       "      <td>0.469456</td>\n",
       "      <td>0.744526</td>\n",
       "      <td>0.464228</td>\n",
       "    </tr>\n",
       "    <tr>\n",
       "      <th>STL</th>\n",
       "      <td>0.108185</td>\n",
       "      <td>0.433872</td>\n",
       "      <td>0.526683</td>\n",
       "      <td>0.705469</td>\n",
       "      <td>0.601840</td>\n",
       "      <td>0.621276</td>\n",
       "      <td>0.178006</td>\n",
       "      <td>0.471315</td>\n",
       "      <td>0.500623</td>\n",
       "      <td>0.202595</td>\n",
       "      <td>...</td>\n",
       "      <td>0.229026</td>\n",
       "      <td>0.525878</td>\n",
       "      <td>0.474370</td>\n",
       "      <td>0.656932</td>\n",
       "      <td>1.000000</td>\n",
       "      <td>0.336807</td>\n",
       "      <td>0.605598</td>\n",
       "      <td>0.566423</td>\n",
       "      <td>0.604142</td>\n",
       "      <td>0.282417</td>\n",
       "    </tr>\n",
       "    <tr>\n",
       "      <th>BLK</th>\n",
       "      <td>0.090543</td>\n",
       "      <td>0.313493</td>\n",
       "      <td>0.401508</td>\n",
       "      <td>0.450094</td>\n",
       "      <td>0.410076</td>\n",
       "      <td>0.338282</td>\n",
       "      <td>0.342218</td>\n",
       "      <td>0.110649</td>\n",
       "      <td>0.105558</td>\n",
       "      <td>0.078387</td>\n",
       "      <td>...</td>\n",
       "      <td>0.579443</td>\n",
       "      <td>0.606604</td>\n",
       "      <td>0.646703</td>\n",
       "      <td>0.178940</td>\n",
       "      <td>0.336807</td>\n",
       "      <td>1.000000</td>\n",
       "      <td>0.303461</td>\n",
       "      <td>0.529440</td>\n",
       "      <td>0.387888</td>\n",
       "      <td>0.164771</td>\n",
       "    </tr>\n",
       "    <tr>\n",
       "      <th>TOV</th>\n",
       "      <td>0.118159</td>\n",
       "      <td>0.443334</td>\n",
       "      <td>0.636659</td>\n",
       "      <td>0.756032</td>\n",
       "      <td>0.811571</td>\n",
       "      <td>0.820246</td>\n",
       "      <td>0.204144</td>\n",
       "      <td>0.548766</td>\n",
       "      <td>0.580632</td>\n",
       "      <td>0.195708</td>\n",
       "      <td>...</td>\n",
       "      <td>0.298644</td>\n",
       "      <td>0.657162</td>\n",
       "      <td>0.596885</td>\n",
       "      <td>0.827618</td>\n",
       "      <td>0.605598</td>\n",
       "      <td>0.303461</td>\n",
       "      <td>1.000000</td>\n",
       "      <td>0.580367</td>\n",
       "      <td>0.818392</td>\n",
       "      <td>0.466431</td>\n",
       "    </tr>\n",
       "    <tr>\n",
       "      <th>PF</th>\n",
       "      <td>0.186133</td>\n",
       "      <td>0.475367</td>\n",
       "      <td>0.547077</td>\n",
       "      <td>0.752087</td>\n",
       "      <td>0.651023</td>\n",
       "      <td>0.610286</td>\n",
       "      <td>0.404990</td>\n",
       "      <td>0.404815</td>\n",
       "      <td>0.403108</td>\n",
       "      <td>0.272841</td>\n",
       "      <td>...</td>\n",
       "      <td>0.524141</td>\n",
       "      <td>0.690390</td>\n",
       "      <td>0.692953</td>\n",
       "      <td>0.469456</td>\n",
       "      <td>0.566423</td>\n",
       "      <td>0.529440</td>\n",
       "      <td>0.580367</td>\n",
       "      <td>1.000000</td>\n",
       "      <td>0.639161</td>\n",
       "      <td>0.170880</td>\n",
       "    </tr>\n",
       "    <tr>\n",
       "      <th>PTS</th>\n",
       "      <td>0.142032</td>\n",
       "      <td>0.554484</td>\n",
       "      <td>0.727546</td>\n",
       "      <td>0.892599</td>\n",
       "      <td>0.990747</td>\n",
       "      <td>0.976309</td>\n",
       "      <td>0.320946</td>\n",
       "      <td>0.737822</td>\n",
       "      <td>0.736809</td>\n",
       "      <td>0.343052</td>\n",
       "      <td>...</td>\n",
       "      <td>0.332566</td>\n",
       "      <td>0.732211</td>\n",
       "      <td>0.665155</td>\n",
       "      <td>0.744526</td>\n",
       "      <td>0.604142</td>\n",
       "      <td>0.387888</td>\n",
       "      <td>0.818392</td>\n",
       "      <td>0.639161</td>\n",
       "      <td>1.000000</td>\n",
       "      <td>0.478645</td>\n",
       "    </tr>\n",
       "    <tr>\n",
       "      <th>ALLSTAR</th>\n",
       "      <td>0.065101</td>\n",
       "      <td>0.197619</td>\n",
       "      <td>0.372403</td>\n",
       "      <td>0.312108</td>\n",
       "      <td>0.458598</td>\n",
       "      <td>0.431362</td>\n",
       "      <td>0.089327</td>\n",
       "      <td>0.253152</td>\n",
       "      <td>0.253553</td>\n",
       "      <td>0.060383</td>\n",
       "      <td>...</td>\n",
       "      <td>0.132441</td>\n",
       "      <td>0.363146</td>\n",
       "      <td>0.320119</td>\n",
       "      <td>0.464228</td>\n",
       "      <td>0.282417</td>\n",
       "      <td>0.164771</td>\n",
       "      <td>0.466431</td>\n",
       "      <td>0.170880</td>\n",
       "      <td>0.478645</td>\n",
       "      <td>1.000000</td>\n",
       "    </tr>\n",
       "  </tbody>\n",
       "</table>\n",
       "<p>27 rows × 27 columns</p>\n",
       "</div>"
      ],
      "text/plain": [
       "              Age         G        GS        MP        FG       FGA       FG%  \\\n",
       "Age      1.000000  0.056058  0.073058  0.194370  0.140328  0.133415  0.087729   \n",
       "G        0.056058  1.000000  0.665081  0.633563  0.552498  0.542508  0.291616   \n",
       "GS       0.073058  0.665081  1.000000  0.764197  0.728904  0.715527  0.217586   \n",
       "MP       0.194370  0.633563  0.764197  1.000000  0.890861  0.897971  0.306448   \n",
       "FG       0.140328  0.552498  0.728904  0.890861  1.000000  0.969978  0.359642   \n",
       "FGA      0.133415  0.542508  0.715527  0.897971  0.969978  1.000000  0.211101   \n",
       "FG%      0.087729  0.291616  0.217586  0.306448  0.359642  0.211101  1.000000   \n",
       "3P       0.156460  0.462582  0.521761  0.724485  0.689764  0.769830  0.083460   \n",
       "3PA      0.137385  0.455928  0.525951  0.735189  0.688423  0.799473  0.000791   \n",
       "3P%      0.129006  0.342202  0.200459  0.362068  0.323302  0.324096  0.277679   \n",
       "2P       0.102447  0.476846  0.672566  0.778804  0.934707  0.857127  0.416850   \n",
       "2PA      0.099974  0.475605  0.680929  0.801753  0.940246  0.906195  0.309296   \n",
       "2P%      0.073143  0.268256  0.181877  0.279813  0.304630  0.187902  0.828751   \n",
       "eFG%     0.113006  0.331759  0.227364  0.355163  0.371944  0.250274  0.958305   \n",
       "FT       0.089077  0.427622  0.608149  0.700900  0.817366  0.799282  0.230913   \n",
       "FTA      0.080492  0.426992  0.608608  0.696545  0.812947  0.779554  0.261170   \n",
       "FT%      0.054216  0.539599  0.319759  0.493463  0.426660  0.438655  0.251958   \n",
       "ORB      0.067567  0.299864  0.365049  0.366895  0.382519  0.268793  0.372324   \n",
       "DRB      0.157399  0.504509  0.649852  0.760373  0.750845  0.686428  0.367826   \n",
       "TRB      0.142086  0.480867  0.613295  0.697376  0.695048  0.609714  0.399661   \n",
       "AST      0.188638  0.389125  0.580854  0.738968  0.733232  0.763628  0.127498   \n",
       "STL      0.108185  0.433872  0.526683  0.705469  0.601840  0.621276  0.178006   \n",
       "BLK      0.090543  0.313493  0.401508  0.450094  0.410076  0.338282  0.342218   \n",
       "TOV      0.118159  0.443334  0.636659  0.756032  0.811571  0.820246  0.204144   \n",
       "PF       0.186133  0.475367  0.547077  0.752087  0.651023  0.610286  0.404990   \n",
       "PTS      0.142032  0.554484  0.727546  0.892599  0.990747  0.976309  0.320946   \n",
       "ALLSTAR  0.065101  0.197619  0.372403  0.312108  0.458598  0.431362  0.089327   \n",
       "\n",
       "               3P       3PA       3P%  ...       ORB       DRB       TRB  \\\n",
       "Age      0.156460  0.137385  0.129006  ...  0.067567  0.157399  0.142086   \n",
       "G        0.462582  0.455928  0.342202  ...  0.299864  0.504509  0.480867   \n",
       "GS       0.521761  0.525951  0.200459  ...  0.365049  0.649852  0.613295   \n",
       "MP       0.724485  0.735189  0.362068  ...  0.366895  0.760373  0.697376   \n",
       "FG       0.689764  0.688423  0.323302  ...  0.382519  0.750845  0.695048   \n",
       "FGA      0.769830  0.799473  0.324096  ...  0.268793  0.686428  0.609714   \n",
       "FG%      0.083460  0.000791  0.277679  ...  0.372324  0.367826  0.399661   \n",
       "3P       1.000000  0.967172  0.496118  ... -0.083790  0.362586  0.251558   \n",
       "3PA      0.967172  1.000000  0.402774  ... -0.107466  0.371459  0.250454   \n",
       "3P%      0.496118  0.402774  1.000000  ... -0.007644  0.164147  0.124222   \n",
       "2P       0.388007  0.401838  0.168529  ...  0.527271  0.777859  0.761106   \n",
       "2PA      0.449981  0.470595  0.192949  ...  0.470085  0.746758  0.719134   \n",
       "2P%      0.100810  0.076526  0.136301  ...  0.254394  0.309899  0.317870   \n",
       "eFG%     0.252707  0.155920  0.457146  ...  0.268862  0.336357  0.343118   \n",
       "FT       0.470496  0.493470  0.183281  ...  0.324749  0.663293  0.609939   \n",
       "FTA      0.413346  0.434436  0.157297  ...  0.405521  0.704784  0.667110   \n",
       "FT%      0.417532  0.412404  0.355410  ...  0.136306  0.333594  0.298205   \n",
       "ORB     -0.083790 -0.107466 -0.007644  ...  1.000000  0.654762  0.814097   \n",
       "DRB      0.362586  0.371459  0.164147  ...  0.654762  1.000000  0.971743   \n",
       "TRB      0.251558  0.250454  0.124222  ...  0.814097  0.971743  1.000000   \n",
       "AST      0.553206  0.584658  0.212080  ...  0.120469  0.537664  0.449377   \n",
       "STL      0.471315  0.500623  0.202595  ...  0.229026  0.525878  0.474370   \n",
       "BLK      0.110649  0.105558  0.078387  ...  0.579443  0.606604  0.646703   \n",
       "TOV      0.548766  0.580632  0.195708  ...  0.298644  0.657162  0.596885   \n",
       "PF       0.404815  0.403108  0.272841  ...  0.524141  0.690390  0.692953   \n",
       "PTS      0.737822  0.736809  0.343052  ...  0.332566  0.732211  0.665155   \n",
       "ALLSTAR  0.253152  0.253553  0.060383  ...  0.132441  0.363146  0.320119   \n",
       "\n",
       "              AST       STL       BLK       TOV        PF       PTS   ALLSTAR  \n",
       "Age      0.188638  0.108185  0.090543  0.118159  0.186133  0.142032  0.065101  \n",
       "G        0.389125  0.433872  0.313493  0.443334  0.475367  0.554484  0.197619  \n",
       "GS       0.580854  0.526683  0.401508  0.636659  0.547077  0.727546  0.372403  \n",
       "MP       0.738968  0.705469  0.450094  0.756032  0.752087  0.892599  0.312108  \n",
       "FG       0.733232  0.601840  0.410076  0.811571  0.651023  0.990747  0.458598  \n",
       "FGA      0.763628  0.621276  0.338282  0.820246  0.610286  0.976309  0.431362  \n",
       "FG%      0.127498  0.178006  0.342218  0.204144  0.404990  0.320946  0.089327  \n",
       "3P       0.553206  0.471315  0.110649  0.548766  0.404815  0.737822  0.253152  \n",
       "3PA      0.584658  0.500623  0.105558  0.580632  0.403108  0.736809  0.253553  \n",
       "3P%      0.212080  0.202595  0.078387  0.195708  0.272841  0.343052  0.060383  \n",
       "2P       0.661594  0.534116  0.467843  0.763788  0.630196  0.899501  0.460093  \n",
       "2PA      0.710902  0.560142  0.422382  0.796701  0.613249  0.915507  0.455555  \n",
       "2P%      0.113867  0.170709  0.249406  0.175277  0.360728  0.273843  0.064265  \n",
       "eFG%     0.146186  0.199547  0.291587  0.201545  0.401133  0.350615  0.077782  \n",
       "FT       0.656734  0.491066  0.362377  0.742842  0.533872  0.863227  0.540550  \n",
       "FTA      0.639131  0.482137  0.401879  0.735186  0.557389  0.847799  0.521333  \n",
       "FT%      0.325998  0.336474  0.167805  0.328794  0.396752  0.461068  0.114975  \n",
       "ORB      0.120469  0.229026  0.579443  0.298644  0.524141  0.332566  0.132441  \n",
       "DRB      0.537664  0.525878  0.606604  0.657162  0.690390  0.732211  0.363146  \n",
       "TRB      0.449377  0.474370  0.646703  0.596885  0.692953  0.665155  0.320119  \n",
       "AST      1.000000  0.656932  0.178940  0.827618  0.469456  0.744526  0.464228  \n",
       "STL      0.656932  1.000000  0.336807  0.605598  0.566423  0.604142  0.282417  \n",
       "BLK      0.178940  0.336807  1.000000  0.303461  0.529440  0.387888  0.164771  \n",
       "TOV      0.827618  0.605598  0.303461  1.000000  0.580367  0.818392  0.466431  \n",
       "PF       0.469456  0.566423  0.529440  0.580367  1.000000  0.639161  0.170880  \n",
       "PTS      0.744526  0.604142  0.387888  0.818392  0.639161  1.000000  0.478645  \n",
       "ALLSTAR  0.464228  0.282417  0.164771  0.466431  0.170880  0.478645  1.000000  \n",
       "\n",
       "[27 rows x 27 columns]"
      ]
     },
     "execution_count": 14,
     "metadata": {},
     "output_type": "execute_result"
    }
   ],
   "source": [
    "df.corr()"
   ]
  },
  {
   "cell_type": "code",
   "execution_count": 15,
   "metadata": {},
   "outputs": [
    {
     "data": {
      "text/plain": [
       "<matplotlib.axes._subplots.AxesSubplot at 0x1e1cb64d880>"
      ]
     },
     "execution_count": 15,
     "metadata": {},
     "output_type": "execute_result"
    },
    {
     "data": {
      "image/png": "[encoded data removed]",
      "text/plain": [
       "<Figure size 1080x864 with 2 Axes>"
      ]
     },
     "metadata": {
      "needs_background": "light"
     },
     "output_type": "display_data"
    }
   ],
   "source": [
    "fig, ax = plt.subplots(figsize=(15,12))\n",
    "sns.heatmap(df.corr(), ax=ax, annot=True, fmt=\".1f\")"
   ]
  },
  {
   "cell_type": "code",
   "execution_count": 16,
   "metadata": {},
   "outputs": [],
   "source": [
    "#sns.pairplot(df,hue=\"ALLSTAR\")"
   ]
  },
  {
   "cell_type": "markdown",
   "metadata": {},
   "source": [
    "Subsets"
   ]
  },
  {
   "cell_type": "code",
   "execution_count": 17,
   "metadata": {},
   "outputs": [],
   "source": [
    "not_AS = df[df['ALLSTAR'] == 0]\n",
    "a_stars = df[df['ALLSTAR'] == 1]"
   ]
  },
  {
   "cell_type": "code",
   "execution_count": 18,
   "metadata": {},
   "outputs": [],
   "source": [
    "def iqr(attribute): \n",
    "    return df[attribute].quantile(0.75) - df[attribute].quantile(0.25) \n",
    "\n",
    "def outliers(attribute):\n",
    "    iqrange = iqr(attribute)\n",
    "    lower_bound = df[attribute].quantile(0.25) -(1.5 * iqrange)\n",
    "    upper_bound = df[attribute].quantile(0.75) +(1.5 * iqrange)\n",
    "    return df[(df[attribute] > upper_bound) | (df[attribute] < lower_bound)]"
   ]
  },
  {
   "cell_type": "code",
   "execution_count": 65,
   "metadata": {},
   "outputs": [],
   "source": [
    "def set_box_color(bp, color):\n",
    "    plt.setp(bp['boxes'], color=color)\n",
    "    plt.setp(bp['whiskers'], color=color)\n",
    "    plt.setp(bp['caps'], color=color)\n",
    "    plt.setp(bp['medians'], color=color)"
   ]
  },
  {
   "cell_type": "markdown",
   "metadata": {},
   "source": [
    "Age"
   ]
  },
  {
   "cell_type": "code",
   "execution_count": 19,
   "metadata": {},
   "outputs": [
    {
     "data": {
      "text/plain": [
       "<matplotlib.axes._subplots.AxesSubplot at 0x1e1cc75fc10>"
      ]
     },
     "execution_count": 19,
     "metadata": {},
     "output_type": "execute_result"
    },
    {
     "data": {
      "image/png": "[encoded data removed]",
      "text/plain": [
       "<Figure size 432x288 with 1 Axes>"
      ]
     },
     "metadata": {
      "needs_background": "light"
     },
     "output_type": "display_data"
    }
   ],
   "source": [
    "sns.boxplot('Age', data=df)"
   ]
  },
  {
   "cell_type": "code",
   "execution_count": 20,
   "metadata": {},
   "outputs": [
    {
     "name": "stdout",
     "output_type": "stream",
     "text": [
      "Number of outliers for age is:  2\n"
     ]
    }
   ],
   "source": [
    "print(\"Number of outliers for age is: \",len(outliers('Age')))"
   ]
  },
  {
   "cell_type": "code",
   "execution_count": 21,
   "metadata": {},
   "outputs": [
    {
     "data": {
      "text/plain": [
       "count    734.000000\n",
       "mean      26.044959\n",
       "std        4.092637\n",
       "min       19.000000\n",
       "25%       23.000000\n",
       "50%       25.000000\n",
       "75%       29.000000\n",
       "max       41.000000\n",
       "Name: Age, dtype: float64"
      ]
     },
     "execution_count": 21,
     "metadata": {},
     "output_type": "execute_result"
    }
   ],
   "source": [
    "df['Age'].describe()"
   ]
  },
  {
   "cell_type": "code",
   "execution_count": 22,
   "metadata": {},
   "outputs": [
    {
     "data": {
      "image/png": "[encoded data removed]",
      "text/plain": [
       "<Figure size 432x288 with 1 Axes>"
      ]
     },
     "metadata": {
      "needs_background": "light"
     },
     "output_type": "display_data"
    }
   ],
   "source": [
    "bins = np.arange(0, 42, 2)\n",
    "\n",
    "plt.hist(not_AS['Age'], bins, alpha=0.5, label='Not AS')\n",
    "plt.hist(a_stars['Age'], bins, alpha=0.5, label='AS')\n",
    "plt.legend(loc='upper right')\n",
    "plt.xlabel('Age')\n",
    "plt.show()"
   ]
  },
  {
   "cell_type": "code",
   "execution_count": 71,
   "metadata": {},
   "outputs": [
    {
     "data": {
      "text/plain": [
       "(0.0, 45.0)"
      ]
     },
     "execution_count": 71,
     "metadata": {},
     "output_type": "execute_result"
    },
    {
     "data": {
      "image/png": "[encoded data removed]",
      "text/plain": [
       "<Figure size 432x288 with 1 Axes>"
      ]
     },
     "metadata": {
      "needs_background": "light"
     },
     "output_type": "display_data"
    }
   ],
   "source": [
    "plt.figure()\n",
    "\n",
    "ticks = [\"Age\"]\n",
    "\n",
    "bpna = plt.boxplot(not_AS['Age'], positions=[0],widths=0.6)\n",
    "bpas = plt.boxplot(a_stars['Age'], positions=[1],widths=0.6)\n",
    "\n",
    "set_box_color(bpna, '#2C7BB6')\n",
    "set_box_color(bpas, '#e6ac0e') \n",
    "\n",
    "plt.plot([], c='#2C7BB6', label='Not All Stars')\n",
    "plt.plot([], c='#e6ac0e', label='All Stars')\n",
    "\n",
    "plt.legend()\n",
    "\n",
    "plt.xticks(range(0, len(ticks) * 2, 2), ticks)\n",
    "plt.xlim(-2, 6)\n",
    "plt.ylim(0, 45)"
   ]
  },
  {
   "cell_type": "code",
   "execution_count": 23,
   "metadata": {},
   "outputs": [
    {
     "data": {
      "text/plain": [
       "<matplotlib.axes._subplots.AxesSubplot at 0x1e1ccaf2ee0>"
      ]
     },
     "execution_count": 23,
     "metadata": {},
     "output_type": "execute_result"
    },
    {
     "data": {
      "image/png": "[encoded data removed]",
      "text/plain": [
       "<Figure size 432x288 with 1 Axes>"
      ]
     },
     "metadata": {
      "needs_background": "light"
     },
     "output_type": "display_data"
    }
   ],
   "source": [
    "plt.xticks(np.arange(18, 42, 1))\n",
    "plt.yticks(np.arange(0, 100, 10))\n",
    "df['Age'].hist(bins=22)"
   ]
  },
  {
   "cell_type": "code",
   "execution_count": 24,
   "metadata": {},
   "outputs": [
    {
     "data": {
      "text/plain": [
       "ShapiroResult(statistic=0.9624007344245911, pvalue=8.798882846286493e-13)"
      ]
     },
     "execution_count": 24,
     "metadata": {},
     "output_type": "execute_result"
    }
   ],
   "source": [
    "stats.shapiro(df.Age)"
   ]
  },
  {
   "cell_type": "markdown",
   "metadata": {},
   "source": [
    "Games"
   ]
  },
  {
   "cell_type": "code",
   "execution_count": 25,
   "metadata": {},
   "outputs": [
    {
     "data": {
      "text/plain": [
       "<matplotlib.axes._subplots.AxesSubplot at 0x1e1ccbdbe80>"
      ]
     },
     "execution_count": 25,
     "metadata": {},
     "output_type": "execute_result"
    },
    {
     "data": {
      "image/png": "[encoded data removed]",
      "text/plain": [
       "<Figure size 432x288 with 1 Axes>"
      ]
     },
     "metadata": {
      "needs_background": "light"
     },
     "output_type": "display_data"
    }
   ],
   "source": [
    "sns.boxplot('G', data=df)"
   ]
  },
  {
   "cell_type": "code",
   "execution_count": 26,
   "metadata": {},
   "outputs": [
    {
     "name": "stdout",
     "output_type": "stream",
     "text": [
      "Number of outliers for games played is:  0\n"
     ]
    }
   ],
   "source": [
    "print(\"Number of outliers for games played is: \",len(outliers('G')))"
   ]
  },
  {
   "cell_type": "code",
   "execution_count": 27,
   "metadata": {},
   "outputs": [
    {
     "data": {
      "text/plain": [
       "count    734.000000\n",
       "mean      28.279292\n",
       "std       19.514704\n",
       "min        1.000000\n",
       "25%        6.250000\n",
       "50%       31.000000\n",
       "75%       46.000000\n",
       "max       60.000000\n",
       "Name: G, dtype: float64"
      ]
     },
     "execution_count": 27,
     "metadata": {},
     "output_type": "execute_result"
    }
   ],
   "source": [
    "df['G'].describe()"
   ]
  },
  {
   "cell_type": "code",
   "execution_count": 150,
   "metadata": {},
   "outputs": [
    {
     "data": {
      "image/png": "[encoded data removed]",
      "text/plain": [
       "<Figure size 432x288 with 1 Axes>"
      ]
     },
     "metadata": {
      "needs_background": "light"
     },
     "output_type": "display_data"
    }
   ],
   "source": [
    "bins = np.arange(0, 66, 2)\n",
    "\n",
    "plt.hist(not_AS['G'], bins, alpha=0.5, label='Not AS')\n",
    "plt.hist(a_stars['G'], bins, alpha=0.5, label='AS')\n",
    "plt.legend(loc='upper right')\n",
    "plt.xlabel('Games Played')\n",
    "plt.savefig('G-hist.png')\n",
    "plt.show()"
   ]
  },
  {
   "cell_type": "code",
   "execution_count": 151,
   "metadata": {},
   "outputs": [
    {
     "data": {
      "image/png": "[encoded data removed]",
      "text/plain": [
       "<Figure size 432x288 with 1 Axes>"
      ]
     },
     "metadata": {
      "needs_background": "light"
     },
     "output_type": "display_data"
    }
   ],
   "source": [
    "plt.figure()\n",
    "\n",
    "ticks = [\"Games Played\"]\n",
    "\n",
    "bpna = plt.boxplot(not_AS['G'], positions=[0],widths=0.6)\n",
    "bpas = plt.boxplot(a_stars['G'], positions=[1],widths=0.6)\n",
    "\n",
    "set_box_color(bpna, '#2C7BB6')\n",
    "set_box_color(bpas, '#e6ac0e') \n",
    "\n",
    "plt.plot([], c='#2C7BB6', label='Not All Stars')\n",
    "plt.plot([], c='#e6ac0e', label='All Stars')\n",
    "\n",
    "plt.legend()\n",
    "\n",
    "plt.xticks(range(0, len(ticks) * 2, 2), ticks)\n",
    "plt.xlim(-2, 6)\n",
    "plt.ylim(0, 70)\n",
    "plt.savefig('G-box.png')"
   ]
  },
  {
   "cell_type": "code",
   "execution_count": 29,
   "metadata": {},
   "outputs": [
    {
     "data": {
      "text/plain": [
       "<matplotlib.axes._subplots.AxesSubplot at 0x1e1ccc2f910>"
      ]
     },
     "execution_count": 29,
     "metadata": {},
     "output_type": "execute_result"
    },
    {
     "data": {
      "image/png": "[encoded data removed]",
      "text/plain": [
       "<Figure size 720x432 with 1 Axes>"
      ]
     },
     "metadata": {
      "needs_background": "light"
     },
     "output_type": "display_data"
    }
   ],
   "source": [
    "plt.xticks(np.arange(0, 60, 2))\n",
    "plt.yticks(np.arange(0, 100, 10))\n",
    "df['G'].hist(bins=60, figsize=(10, 6))"
   ]
  },
  {
   "cell_type": "code",
   "execution_count": 30,
   "metadata": {},
   "outputs": [
    {
     "data": {
      "text/plain": [
       "ShapiroResult(statistic=0.8942295908927917, pvalue=4.815959728099254e-22)"
      ]
     },
     "execution_count": 30,
     "metadata": {},
     "output_type": "execute_result"
    }
   ],
   "source": [
    "stats.shapiro(df.G)"
   ]
  },
  {
   "cell_type": "markdown",
   "metadata": {},
   "source": [
    "Minutes"
   ]
  },
  {
   "cell_type": "code",
   "execution_count": 31,
   "metadata": {},
   "outputs": [
    {
     "data": {
      "text/plain": [
       "<matplotlib.axes._subplots.AxesSubplot at 0x1e1ccd29dc0>"
      ]
     },
     "execution_count": 31,
     "metadata": {},
     "output_type": "execute_result"
    },
    {
     "data": {
      "image/png": "[encoded data removed]",
      "text/plain": [
       "<Figure size 432x288 with 1 Axes>"
      ]
     },
     "metadata": {
      "needs_background": "light"
     },
     "output_type": "display_data"
    }
   ],
   "source": [
    "sns.boxplot('MP', data=df)"
   ]
  },
  {
   "cell_type": "code",
   "execution_count": 32,
   "metadata": {},
   "outputs": [
    {
     "name": "stdout",
     "output_type": "stream",
     "text": [
      "Number of outliers for minutes played is:  0\n"
     ]
    }
   ],
   "source": [
    "print(\"Number of outliers for minutes played is: \",len(outliers('MP')))"
   ]
  },
  {
   "cell_type": "code",
   "execution_count": 33,
   "metadata": {},
   "outputs": [
    {
     "data": {
      "text/plain": [
       "count    734.000000\n",
       "mean      18.114169\n",
       "std        9.995226\n",
       "min        1.000000\n",
       "25%        9.725000\n",
       "50%       17.000000\n",
       "75%       26.475000\n",
       "max       39.000000\n",
       "Name: MP, dtype: float64"
      ]
     },
     "execution_count": 33,
     "metadata": {},
     "output_type": "execute_result"
    }
   ],
   "source": [
    "df['MP'].describe()"
   ]
  },
  {
   "cell_type": "code",
   "execution_count": 152,
   "metadata": {},
   "outputs": [
    {
     "data": {
      "image/png": "[encoded data removed]",
      "text/plain": [
       "<Figure size 432x288 with 1 Axes>"
      ]
     },
     "metadata": {
      "needs_background": "light"
     },
     "output_type": "display_data"
    }
   ],
   "source": [
    "bins = np.arange(0, 60, 2)\n",
    "\n",
    "plt.hist(not_AS['MP'], bins, alpha=0.5, label='Not AS')\n",
    "plt.hist(a_stars['MP'], bins, alpha=0.5, label='AS')\n",
    "plt.legend(loc='upper right')\n",
    "plt.xlabel('Minutes Played')\n",
    "plt.savefig('MP-hist.png')\n",
    "plt.show()\n"
   ]
  },
  {
   "cell_type": "code",
   "execution_count": 153,
   "metadata": {},
   "outputs": [
    {
     "data": {
      "image/png": "[encoded data removed]",
      "text/plain": [
       "<Figure size 432x288 with 1 Axes>"
      ]
     },
     "metadata": {
      "needs_background": "light"
     },
     "output_type": "display_data"
    }
   ],
   "source": [
    "plt.figure()\n",
    "\n",
    "ticks = [\"Minutes Played\"]\n",
    "\n",
    "bpna = plt.boxplot(not_AS['MP'], positions=[0],widths=0.6)\n",
    "bpas = plt.boxplot(a_stars['MP'], positions=[1],widths=0.6)\n",
    "\n",
    "set_box_color(bpna, '#2C7BB6')\n",
    "set_box_color(bpas, '#e6ac0e') \n",
    "\n",
    "plt.plot([], c='#2C7BB6', label='Not All Stars')\n",
    "plt.plot([], c='#e6ac0e', label='All Stars')\n",
    "\n",
    "plt.legend()\n",
    "\n",
    "plt.xticks(range(0, len(ticks) * 2, 2), ticks)\n",
    "plt.xlim(-2, 6)\n",
    "plt.ylim(0, 50)\n",
    "plt.savefig('MP-box.png')"
   ]
  },
  {
   "cell_type": "code",
   "execution_count": 35,
   "metadata": {},
   "outputs": [
    {
     "data": {
      "text/plain": [
       "<matplotlib.axes._subplots.AxesSubplot at 0x1e1ccf57670>"
      ]
     },
     "execution_count": 35,
     "metadata": {},
     "output_type": "execute_result"
    },
    {
     "data": {
      "image/png": "[encoded data removed]",
      "text/plain": [
       "<Figure size 720x432 with 1 Axes>"
      ]
     },
     "metadata": {
      "needs_background": "light"
     },
     "output_type": "display_data"
    }
   ],
   "source": [
    "plt.xticks(np.arange(0, 40, 2))\n",
    "plt.yticks(np.arange(0, 40, 10))\n",
    "df['MP'].hist(bins=60, figsize=(10, 6))"
   ]
  },
  {
   "cell_type": "code",
   "execution_count": 36,
   "metadata": {},
   "outputs": [
    {
     "data": {
      "text/plain": [
       "ShapiroResult(statistic=0.9618173241615295, pvalue=6.708111713674136e-13)"
      ]
     },
     "execution_count": 36,
     "metadata": {},
     "output_type": "execute_result"
    }
   ],
   "source": [
    "stats.shapiro(df.MP)"
   ]
  },
  {
   "cell_type": "markdown",
   "metadata": {},
   "source": [
    "Points per game"
   ]
  },
  {
   "cell_type": "code",
   "execution_count": 37,
   "metadata": {},
   "outputs": [
    {
     "data": {
      "text/plain": [
       "<matplotlib.axes._subplots.AxesSubplot at 0x1e1cd041ee0>"
      ]
     },
     "execution_count": 37,
     "metadata": {},
     "output_type": "execute_result"
    },
    {
     "data": {
      "image/png": "[encoded data removed]",
      "text/plain": [
       "<Figure size 432x288 with 1 Axes>"
      ]
     },
     "metadata": {
      "needs_background": "light"
     },
     "output_type": "display_data"
    }
   ],
   "source": [
    "sns.boxplot('PTS', data=df)"
   ]
  },
  {
   "cell_type": "code",
   "execution_count": 44,
   "metadata": {},
   "outputs": [
    {
     "name": "stdout",
     "output_type": "stream",
     "text": [
      "Number of outliers for points scored is:  26\n"
     ]
    }
   ],
   "source": [
    "print(\"Number of outliers for points scored is: \",len(outliers('PTS')))"
   ]
  },
  {
   "cell_type": "code",
   "execution_count": 45,
   "metadata": {},
   "outputs": [
    {
     "data": {
      "text/plain": [
       "count    734.000000\n",
       "mean       7.727520\n",
       "std        6.265428\n",
       "min        0.000000\n",
       "25%        3.000000\n",
       "50%        6.300000\n",
       "75%       10.675000\n",
       "max       29.400000\n",
       "Name: PTS, dtype: float64"
      ]
     },
     "execution_count": 45,
     "metadata": {},
     "output_type": "execute_result"
    }
   ],
   "source": [
    "df['PTS'].describe()"
   ]
  },
  {
   "cell_type": "code",
   "execution_count": 154,
   "metadata": {},
   "outputs": [
    {
     "data": {
      "image/png": "[encoded data removed]",
      "text/plain": [
       "<Figure size 432x288 with 1 Axes>"
      ]
     },
     "metadata": {
      "needs_background": "light"
     },
     "output_type": "display_data"
    }
   ],
   "source": [
    "bins = np.arange(0, 40, 2)\n",
    "\n",
    "plt.hist(not_AS['PTS'], bins, alpha=0.5, label='Not AS')\n",
    "plt.hist(a_stars['PTS'], bins, alpha=0.5, label='AS')\n",
    "plt.legend(loc='upper right')\n",
    "plt.xlabel('Points per game')\n",
    "plt.savefig('PTS-hist.png')\n",
    "plt.show()"
   ]
  },
  {
   "cell_type": "code",
   "execution_count": 155,
   "metadata": {},
   "outputs": [
    {
     "data": {
      "image/png": "[encoded data removed]",
      "text/plain": [
       "<Figure size 432x288 with 1 Axes>"
      ]
     },
     "metadata": {
      "needs_background": "light"
     },
     "output_type": "display_data"
    }
   ],
   "source": [
    "plt.figure()\n",
    "\n",
    "ticks = [\"Points per game\"]\n",
    "\n",
    "bpna = plt.boxplot(not_AS['PTS'], positions=[0],widths=0.6)\n",
    "bpas = plt.boxplot(a_stars['PTS'], positions=[1],widths=0.6)\n",
    "\n",
    "set_box_color(bpna, '#2C7BB6')\n",
    "set_box_color(bpas, '#e6ac0e') \n",
    "\n",
    "plt.plot([], c='#2C7BB6', label='Not All Stars')\n",
    "plt.plot([], c='#e6ac0e', label='All Stars')\n",
    "\n",
    "plt.legend()\n",
    "\n",
    "plt.xticks(range(0, len(ticks) * 2, 2), ticks)\n",
    "plt.xlim(-2, 6)\n",
    "plt.ylim(0, 40)\n",
    "plt.savefig('PTS-box.png')"
   ]
  },
  {
   "cell_type": "code",
   "execution_count": 47,
   "metadata": {},
   "outputs": [
    {
     "data": {
      "text/plain": [
       "<matplotlib.axes._subplots.AxesSubplot at 0x1e1cc00da30>"
      ]
     },
     "execution_count": 47,
     "metadata": {},
     "output_type": "execute_result"
    },
    {
     "data": {
      "image/png": "[encoded data removed]",
      "text/plain": [
       "<Figure size 720x432 with 1 Axes>"
      ]
     },
     "metadata": {
      "needs_background": "light"
     },
     "output_type": "display_data"
    }
   ],
   "source": [
    "plt.xticks(np.arange(0, 35, 2))\n",
    "plt.yticks(np.arange(0, 40, 10))\n",
    "df['PTS'].hist(bins=60, figsize=(10, 6))"
   ]
  },
  {
   "cell_type": "code",
   "execution_count": 48,
   "metadata": {},
   "outputs": [
    {
     "data": {
      "text/plain": [
       "ShapiroResult(statistic=0.9070057272911072, pvalue=9.656692263464443e-21)"
      ]
     },
     "execution_count": 48,
     "metadata": {},
     "output_type": "execute_result"
    }
   ],
   "source": [
    "stats.shapiro(df.PTS)"
   ]
  },
  {
   "cell_type": "markdown",
   "metadata": {},
   "source": [
    "Shooting efficiency eFG%"
   ]
  },
  {
   "cell_type": "code",
   "execution_count": 49,
   "metadata": {},
   "outputs": [
    {
     "data": {
      "text/plain": [
       "<matplotlib.axes._subplots.AxesSubplot at 0x1e1cc12b7f0>"
      ]
     },
     "execution_count": 49,
     "metadata": {},
     "output_type": "execute_result"
    },
    {
     "data": {
      "image/png": "[encoded data removed]",
      "text/plain": [
       "<Figure size 432x288 with 1 Axes>"
      ]
     },
     "metadata": {
      "needs_background": "light"
     },
     "output_type": "display_data"
    }
   ],
   "source": [
    "sns.boxplot('eFG%', data=df)"
   ]
  },
  {
   "cell_type": "code",
   "execution_count": 50,
   "metadata": {},
   "outputs": [
    {
     "name": "stdout",
     "output_type": "stream",
     "text": [
      "Number of outliers for shooting efficiency is:  96\n"
     ]
    }
   ],
   "source": [
    "print(\"Number of outliers for shooting efficiency is: \",len(outliers('eFG%')))"
   ]
  },
  {
   "cell_type": "code",
   "execution_count": 63,
   "metadata": {},
   "outputs": [
    {
     "data": {
      "text/html": [
       "<div>\n",
       "<style scoped>\n",
       "    .dataframe tbody tr th:only-of-type {\n",
       "        vertical-align: middle;\n",
       "    }\n",
       "\n",
       "    .dataframe tbody tr th {\n",
       "        vertical-align: top;\n",
       "    }\n",
       "\n",
       "    .dataframe thead th {\n",
       "        text-align: right;\n",
       "    }\n",
       "</style>\n",
       "<table border=\"1\" class=\"dataframe\">\n",
       "  <thead>\n",
       "    <tr style=\"text-align: right;\">\n",
       "      <th></th>\n",
       "      <th>Player</th>\n",
       "      <th>G</th>\n",
       "      <th>PTS</th>\n",
       "      <th>eFG%</th>\n",
       "    </tr>\n",
       "    <tr>\n",
       "      <th>Rk</th>\n",
       "      <th></th>\n",
       "      <th></th>\n",
       "      <th></th>\n",
       "      <th></th>\n",
       "    </tr>\n",
       "  </thead>\n",
       "  <tbody>\n",
       "    <tr>\n",
       "      <th>97</th>\n",
       "      <td>Ahmad Caver</td>\n",
       "      <td>1</td>\n",
       "      <td>2.0</td>\n",
       "      <td>1.000</td>\n",
       "    </tr>\n",
       "    <tr>\n",
       "      <th>228</th>\n",
       "      <td>Juancho Hernangómez</td>\n",
       "      <td>2</td>\n",
       "      <td>1.5</td>\n",
       "      <td>1.500</td>\n",
       "    </tr>\n",
       "    <tr>\n",
       "      <th>234</th>\n",
       "      <td>Malcolm Hill</td>\n",
       "      <td>3</td>\n",
       "      <td>5.7</td>\n",
       "      <td>0.813</td>\n",
       "    </tr>\n",
       "    <tr>\n",
       "      <th>238</th>\n",
       "      <td>Aaron Holiday</td>\n",
       "      <td>3</td>\n",
       "      <td>7.3</td>\n",
       "      <td>0.846</td>\n",
       "    </tr>\n",
       "    <tr>\n",
       "      <th>278</th>\n",
       "      <td>Joe Johnson</td>\n",
       "      <td>1</td>\n",
       "      <td>2.0</td>\n",
       "      <td>1.000</td>\n",
       "    </tr>\n",
       "    <tr>\n",
       "      <th>335</th>\n",
       "      <td>Trey Lyles</td>\n",
       "      <td>2</td>\n",
       "      <td>2.0</td>\n",
       "      <td>1.000</td>\n",
       "    </tr>\n",
       "    <tr>\n",
       "      <th>353</th>\n",
       "      <td>Mac McClung</td>\n",
       "      <td>1</td>\n",
       "      <td>2.0</td>\n",
       "      <td>1.000</td>\n",
       "    </tr>\n",
       "    <tr>\n",
       "      <th>383</th>\n",
       "      <td>Juwan Morgan</td>\n",
       "      <td>1</td>\n",
       "      <td>5.0</td>\n",
       "      <td>0.833</td>\n",
       "    </tr>\n",
       "    <tr>\n",
       "      <th>434</th>\n",
       "      <td>Reggie Perry</td>\n",
       "      <td>1</td>\n",
       "      <td>2.0</td>\n",
       "      <td>1.000</td>\n",
       "    </tr>\n",
       "    <tr>\n",
       "      <th>504</th>\n",
       "      <td>Jaden Springer</td>\n",
       "      <td>2</td>\n",
       "      <td>1.0</td>\n",
       "      <td>1.000</td>\n",
       "    </tr>\n",
       "    <tr>\n",
       "      <th>519</th>\n",
       "      <td>Tyrell Terry</td>\n",
       "      <td>2</td>\n",
       "      <td>1.0</td>\n",
       "      <td>1.000</td>\n",
       "    </tr>\n",
       "    <tr>\n",
       "      <th>521</th>\n",
       "      <td>Daniel Theis</td>\n",
       "      <td>2</td>\n",
       "      <td>4.5</td>\n",
       "      <td>1.125</td>\n",
       "    </tr>\n",
       "    <tr>\n",
       "      <th>559</th>\n",
       "      <td>Lindy Waters III</td>\n",
       "      <td>3</td>\n",
       "      <td>1.7</td>\n",
       "      <td>0.833</td>\n",
       "    </tr>\n",
       "    <tr>\n",
       "      <th>586</th>\n",
       "      <td>McKinley Wright IV</td>\n",
       "      <td>3</td>\n",
       "      <td>1.7</td>\n",
       "      <td>0.833</td>\n",
       "    </tr>\n",
       "  </tbody>\n",
       "</table>\n",
       "</div>"
      ],
      "text/plain": [
       "                  Player  G  PTS   eFG%\n",
       "Rk                                     \n",
       "97           Ahmad Caver  1  2.0  1.000\n",
       "228  Juancho Hernangómez  2  1.5  1.500\n",
       "234         Malcolm Hill  3  5.7  0.813\n",
       "238        Aaron Holiday  3  7.3  0.846\n",
       "278          Joe Johnson  1  2.0  1.000\n",
       "335           Trey Lyles  2  2.0  1.000\n",
       "353          Mac McClung  1  2.0  1.000\n",
       "383         Juwan Morgan  1  5.0  0.833\n",
       "434         Reggie Perry  1  2.0  1.000\n",
       "504       Jaden Springer  2  1.0  1.000\n",
       "519         Tyrell Terry  2  1.0  1.000\n",
       "521         Daniel Theis  2  4.5  1.125\n",
       "559     Lindy Waters III  3  1.7  0.833\n",
       "586   McKinley Wright IV  3  1.7  0.833"
      ]
     },
     "execution_count": 63,
     "metadata": {},
     "output_type": "execute_result"
    }
   ],
   "source": [
    "extremes = df[df['eFG%']>0.8]\n",
    "extremes[['Player', 'G', 'PTS', 'eFG%']]"
   ]
  },
  {
   "cell_type": "code",
   "execution_count": 51,
   "metadata": {},
   "outputs": [
    {
     "data": {
      "text/plain": [
       "count    734.000000\n",
       "mean       0.481034\n",
       "std        0.173762\n",
       "min        0.000000\n",
       "25%        0.449250\n",
       "50%        0.508000\n",
       "75%        0.558750\n",
       "max        1.500000\n",
       "Name: eFG%, dtype: float64"
      ]
     },
     "execution_count": 51,
     "metadata": {},
     "output_type": "execute_result"
    }
   ],
   "source": [
    "df['eFG%'].describe()"
   ]
  },
  {
   "cell_type": "code",
   "execution_count": 60,
   "metadata": {},
   "outputs": [
    {
     "data": {
      "image/png": "[encoded data removed]",
      "text/plain": [
       "<Figure size 432x288 with 1 Axes>"
      ]
     },
     "metadata": {
      "needs_background": "light"
     },
     "output_type": "display_data"
    }
   ],
   "source": [
    "bins = np.arange(0.0, 1.0, 0.05)\n",
    "\n",
    "plt.hist(not_AS['eFG%'], bins, alpha=0.5, label='Not AS')\n",
    "plt.hist(a_stars['eFG%'], bins, alpha=0.5, label='AS')\n",
    "plt.legend(loc='upper right')\n",
    "plt.xlabel('Shooting efficiency')\n",
    "plt.show()"
   ]
  },
  {
   "cell_type": "code",
   "execution_count": 76,
   "metadata": {},
   "outputs": [
    {
     "data": {
      "text/plain": [
       "(0.0, 1.5)"
      ]
     },
     "execution_count": 76,
     "metadata": {},
     "output_type": "execute_result"
    },
    {
     "data": {
      "image/png": "[encoded data removed]",
      "text/plain": [
       "<Figure size 432x288 with 1 Axes>"
      ]
     },
     "metadata": {
      "needs_background": "light"
     },
     "output_type": "display_data"
    }
   ],
   "source": [
    "plt.figure()\n",
    "\n",
    "ticks = [\"Shooting efficiency\"]\n",
    "\n",
    "bpna = plt.boxplot(not_AS['eFG%'], positions=[0],widths=0.6)\n",
    "bpas = plt.boxplot(a_stars['eFG%'], positions=[1],widths=0.6)\n",
    "\n",
    "set_box_color(bpna, '#2C7BB6')\n",
    "set_box_color(bpas, '#e6ac0e') \n",
    "\n",
    "plt.plot([], c='#2C7BB6', label='Not All Stars')\n",
    "plt.plot([], c='#e6ac0e', label='All Stars')\n",
    "\n",
    "plt.legend()\n",
    "\n",
    "plt.xticks(range(0, len(ticks) * 2, 2), ticks)\n",
    "plt.xlim(-2, 6)\n",
    "plt.ylim(0., 1.5)"
   ]
  },
  {
   "cell_type": "markdown",
   "metadata": {},
   "source": [
    "Predicting Points per games"
   ]
  },
  {
   "cell_type": "code",
   "execution_count": 168,
   "metadata": {},
   "outputs": [
    {
     "data": {
      "image/png": "[encoded data removed]",
      "text/plain": [
       "<Figure size 432x288 with 1 Axes>"
      ]
     },
     "metadata": {
      "needs_background": "light"
     },
     "output_type": "display_data"
    }
   ],
   "source": [
    "stats.probplot(df['PTS'], dist=\"norm\", plot=pylab)\n",
    "plt.title('PTS - Probability plot')\n",
    "plt.savefig('PTS-qq.png')\n",
    "pylab.show()"
   ]
  },
  {
   "cell_type": "code",
   "execution_count": 110,
   "metadata": {},
   "outputs": [
    {
     "name": "stdout",
     "output_type": "stream",
     "text": [
      "Shapiro PTS: Statistics:  0.9070057272911072  P-values 0.0000000000000000000096566923\n",
      "Shapiro TOV: Statistics:  0.879149854183197  P-values 0.0000000000000000000000194843\n",
      "Shapiro STL: Statistics:  0.9339361190795898  P-values 0.0000000000000000172530999517\n",
      "Shapiro PF: Statistics:  0.9838533997535706  P-values 0.0000003083680439885938540101\n",
      "Shapiro MP: Statistics:  0.9618173241615295  P-values 0.0000000000006708111713674136\n",
      "Shapiro FT: Statistics:  0.7969810962677002  P-values 0.0000000000000000000000000000\n"
     ]
    }
   ],
   "source": [
    "pts_shapiro = stats.shapiro(df.PTS)\n",
    "tov_shapiro = stats.shapiro(df.TOV)\n",
    "stl_shapiro = stats.shapiro(df.STL)\n",
    "pf_shapiro = stats.shapiro(df.PF)\n",
    "mp_shapiro = stats.shapiro(df.MP)\n",
    "ft_shapiro = stats.shapiro(df.FT)\n",
    "\n",
    "print(\"Shapiro PTS: Statistics: \", pts_shapiro.statistic , \" P-values\", format( pts_shapiro.pvalue, '.28f'))\n",
    "print(\"Shapiro TOV: Statistics: \", tov_shapiro.statistic , \" P-values\", format( tov_shapiro.pvalue, '.28f'))\n",
    "print(\"Shapiro STL: Statistics: \", stl_shapiro.statistic , \" P-values\", format( stl_shapiro.pvalue, '.28f'))\n",
    "print(\"Shapiro PF: Statistics: \", pf_shapiro.statistic , \" P-values\", format( pf_shapiro.pvalue, '.28f'))\n",
    "print(\"Shapiro MP: Statistics: \", mp_shapiro.statistic , \" P-values\", format( mp_shapiro.pvalue, '.28f'))\n",
    "print(\"Shapiro FT: Statistics: \", ft_shapiro.statistic , \" P-values\", format( ft_shapiro.pvalue, '.28f'))\n"
   ]
  },
  {
   "cell_type": "code",
   "execution_count": 120,
   "metadata": {},
   "outputs": [],
   "source": [
    "def powerpuffgirls(data, method):\n",
    "    power = PowerTransformer(method=method, standardize=True) \n",
    "    data_trans = power.fit_transform(data.copy())\n",
    "    return data_trans\n",
    "\n",
    "def best_transform(column,data):\n",
    "    pvalues=dict()\n",
    "\n",
    "    pvalues['data']=[stats.shapiro(data[column])[1],data]\n",
    "       \n",
    "    data_y=data.copy()\n",
    "    data_y[column]=powerpuffgirls(data_y[[column]],\"yeo-johnson\")\n",
    "    pvalues['data_y']=[stats.shapiro( data_y[column])[1],data_y]\n",
    "    \n",
    "    \n",
    "    if (any(data[column]<=0)==False):\n",
    "        data_b=data.copy()\n",
    "        data_b[column]=powerpuffgirls(data_b[[column]],\"box-cox\")\n",
    "        pvalues['data_b']=[stats.shapiro( data_b[column])[1],data_b]\n",
    "    \n",
    "    sorted_pvalues=sorted(pvalues.items(),key=operator.itemgetter(0))\n",
    "    \n",
    "    return(sorted_pvalues[-1][1][1])\n"
   ]
  },
  {
   "cell_type": "code",
   "execution_count": 121,
   "metadata": {},
   "outputs": [
    {
     "name": "stdout",
     "output_type": "stream",
     "text": [
      "------------\n",
      "PTS\n",
      "Shapiro  PTS  : Statistics:  0.9869577288627625  P-values 0.0000040233203435491304844618\n",
      "------------\n",
      "AST\n",
      "Shapiro  AST  : Statistics:  0.9748271703720093  P-values 0.0000000006337372293607757001\n",
      "------------\n",
      "TOV\n",
      "Shapiro  TOV  : Statistics:  0.9764499664306641  P-values 0.0000000017255776807445499799\n",
      "------------\n",
      "FT\n",
      "Shapiro  FT  : Statistics:  0.9600162506103516  P-values 0.0000000000002953196227058891\n",
      "------------\n",
      "MP\n",
      "Shapiro  MP  : Statistics:  0.9685682058334351  P-values 0.0000000000186644050909068326\n",
      "------------\n",
      "STL\n",
      "Shapiro  STL  : Statistics:  0.9629422426223755  P-values 0.0000000000011346997560307548\n",
      "------------\n",
      "PF\n",
      "Shapiro  PF  : Statistics:  0.9829109907150269  P-values 0.0000001491035703793386346661\n"
     ]
    }
   ],
   "source": [
    "col_list = ['PTS', 'AST', 'TOV', 'FT', 'MP', 'STL','PF']\n",
    "\n",
    "for col in col_list:\n",
    "  print('------------')\n",
    "  print(col)\n",
    "  transformed = best_transform(col, df)\n",
    "  t_shapiro = stats.shapiro(transformed[col])\n",
    "  print(\"Shapiro \", col, \" : Statistics: \", t_shapiro.statistic , \" P-values\", format( t_shapiro.pvalue, '.28f'))\n",
    "  \n",
    "\n",
    "  \n"
   ]
  },
  {
   "cell_type": "markdown",
   "metadata": {},
   "source": [
    "Personal fouls"
   ]
  },
  {
   "cell_type": "code",
   "execution_count": 77,
   "metadata": {},
   "outputs": [
    {
     "name": "stdout",
     "output_type": "stream",
     "text": [
      "Pearson correlation: 0.639\n"
     ]
    },
    {
     "data": {
      "image/png": "[encoded data removed]",
      "text/plain": [
       "<Figure size 432x288 with 1 Axes>"
      ]
     },
     "metadata": {
      "needs_background": "light"
     },
     "output_type": "display_data"
    }
   ],
   "source": [
    "sns.regplot(x=\"PTS\", y=\"PF\", data=df)\n",
    "print(\"Pearson correlation: %.3f\" % df['PTS'].corr(df['PF']))"
   ]
  },
  {
   "cell_type": "code",
   "execution_count": 122,
   "metadata": {},
   "outputs": [
    {
     "data": {
      "image/png": "[encoded data removed]",
      "text/plain": [
       "<Figure size 432x288 with 1 Axes>"
      ]
     },
     "metadata": {
      "needs_background": "light"
     },
     "output_type": "display_data"
    }
   ],
   "source": [
    "stats.probplot(df['PF'], dist=\"norm\", plot=pylab)\n",
    "pylab.show()"
   ]
  },
  {
   "cell_type": "markdown",
   "metadata": {},
   "source": [
    "Turn overs"
   ]
  },
  {
   "cell_type": "code",
   "execution_count": 156,
   "metadata": {},
   "outputs": [
    {
     "name": "stdout",
     "output_type": "stream",
     "text": [
      "Pearson correlation: 0.818\n"
     ]
    },
    {
     "data": {
      "image/png": "[encoded data removed]",
      "text/plain": [
       "<Figure size 432x288 with 1 Axes>"
      ]
     },
     "metadata": {
      "needs_background": "light"
     },
     "output_type": "display_data"
    }
   ],
   "source": [
    "sns.regplot(x=\"PTS\", y=\"TOV\", data=df)\n",
    "print(\"Pearson correlation: %.3f\" % df['PTS'].corr(df['TOV']))\n",
    "plt.savefig('PTS-TOV-corr.png')"
   ]
  },
  {
   "cell_type": "code",
   "execution_count": 167,
   "metadata": {},
   "outputs": [
    {
     "data": {
      "image/png": "[encoded data removed]",
      "text/plain": [
       "<Figure size 432x288 with 1 Axes>"
      ]
     },
     "metadata": {
      "needs_background": "light"
     },
     "output_type": "display_data"
    }
   ],
   "source": [
    "stats.probplot(df['TOV'], dist=\"norm\", plot=pylab)\n",
    "plt.title('TOV - Probability plot')\n",
    "plt.savefig('TOV-qq.png')\n",
    "pylab.show()"
   ]
  },
  {
   "cell_type": "code",
   "execution_count": 157,
   "metadata": {},
   "outputs": [
    {
     "name": "stdout",
     "output_type": "stream",
     "text": [
      "Pearson correlation: 0.893\n"
     ]
    },
    {
     "data": {
      "image/png": "[encoded data removed]",
      "text/plain": [
       "<Figure size 432x288 with 1 Axes>"
      ]
     },
     "metadata": {
      "needs_background": "light"
     },
     "output_type": "display_data"
    }
   ],
   "source": [
    "sns.regplot(x=\"PTS\", y=\"MP\", data=df)\n",
    "print(\"Pearson correlation: %.3f\" % df['PTS'].corr(df['MP']))\n",
    "plt.savefig('PTS-MP-corr.png')"
   ]
  },
  {
   "cell_type": "code",
   "execution_count": 166,
   "metadata": {},
   "outputs": [
    {
     "data": {
      "image/png": "[encoded data removed]",
      "text/plain": [
       "<Figure size 432x288 with 1 Axes>"
      ]
     },
     "metadata": {
      "needs_background": "light"
     },
     "output_type": "display_data"
    }
   ],
   "source": [
    "stats.probplot(df['MP'], dist=\"norm\", plot=pylab)\n",
    "plt.title('MP - Probability plot')\n",
    "plt.savefig('MP-qq.png')\n",
    "pylab.show()"
   ]
  },
  {
   "cell_type": "markdown",
   "metadata": {},
   "source": [
    "Free throws made"
   ]
  },
  {
   "cell_type": "code",
   "execution_count": 158,
   "metadata": {},
   "outputs": [
    {
     "name": "stdout",
     "output_type": "stream",
     "text": [
      "Pearson correlation: 0.863\n"
     ]
    },
    {
     "data": {
      "image/png": "[encoded data removed]",
      "text/plain": [
       "<Figure size 432x288 with 1 Axes>"
      ]
     },
     "metadata": {
      "needs_background": "light"
     },
     "output_type": "display_data"
    }
   ],
   "source": [
    "sns.regplot(x=\"PTS\", y=\"FT\", data=df)\n",
    "print(\"Pearson correlation: %.3f\" % df['PTS'].corr(df['FT']))\n",
    "plt.savefig('PTS-FT-corr.png')"
   ]
  },
  {
   "cell_type": "code",
   "execution_count": 160,
   "metadata": {},
   "outputs": [
    {
     "data": {
      "image/png": "[encoded data removed]",
      "text/plain": [
       "<Figure size 432x288 with 1 Axes>"
      ]
     },
     "metadata": {
      "needs_background": "light"
     },
     "output_type": "display_data"
    }
   ],
   "source": [
    "stats.probplot(df['FT'], dist=\"norm\", plot=pylab)\n",
    "plt.title('FT - Probability plot')\n",
    "plt.savefig('FT-qq.png')\n",
    "pylab.show()"
   ]
  },
  {
   "cell_type": "markdown",
   "metadata": {},
   "source": [
    "Steals"
   ]
  },
  {
   "cell_type": "code",
   "execution_count": 81,
   "metadata": {},
   "outputs": [
    {
     "name": "stdout",
     "output_type": "stream",
     "text": [
      "Pearson correlation: 0.604\n"
     ]
    },
    {
     "data": {
      "image/png": "[encoded data removed]",
      "text/plain": [
       "<Figure size 432x288 with 1 Axes>"
      ]
     },
     "metadata": {
      "needs_background": "light"
     },
     "output_type": "display_data"
    }
   ],
   "source": [
    "sns.regplot(x=\"PTS\", y=\"STL\", data=df)\n",
    "print(\"Pearson correlation: %.3f\" % df['PTS'].corr(df['STL']))"
   ]
  },
  {
   "cell_type": "code",
   "execution_count": 127,
   "metadata": {},
   "outputs": [
    {
     "data": {
      "image/png": "[encoded data removed]",
      "text/plain": [
       "<Figure size 432x288 with 1 Axes>"
      ]
     },
     "metadata": {
      "needs_background": "light"
     },
     "output_type": "display_data"
    }
   ],
   "source": [
    "stats.probplot(df['STL'], dist=\"norm\", plot=pylab)\n",
    "pylab.show()"
   ]
  },
  {
   "cell_type": "markdown",
   "metadata": {},
   "source": [
    "Assists"
   ]
  },
  {
   "cell_type": "code",
   "execution_count": 159,
   "metadata": {},
   "outputs": [
    {
     "name": "stdout",
     "output_type": "stream",
     "text": [
      "Pearson correlation: 0.745\n"
     ]
    },
    {
     "data": {
      "image/png": "[encoded data removed]",
      "text/plain": [
       "<Figure size 432x288 with 1 Axes>"
      ]
     },
     "metadata": {
      "needs_background": "light"
     },
     "output_type": "display_data"
    }
   ],
   "source": [
    "sns.regplot(x=\"PTS\", y=\"AST\", data=df)\n",
    "print(\"Pearson correlation: %.3f\" % df['PTS'].corr(df['AST']))\n",
    "plt.savefig('PTS-AST-corr.png')"
   ]
  },
  {
   "cell_type": "code",
   "execution_count": 165,
   "metadata": {},
   "outputs": [
    {
     "data": {
      "image/png": "[encoded data removed]",
      "text/plain": [
       "<Figure size 432x288 with 1 Axes>"
      ]
     },
     "metadata": {
      "needs_background": "light"
     },
     "output_type": "display_data"
    }
   ],
   "source": [
    "stats.probplot(df['AST'], dist=\"norm\", plot=pylab)\n",
    "plt.title('AST - Probability plot')\n",
    "plt.savefig('AST-qq.png')\n",
    "pylab.show()"
   ]
  },
  {
   "cell_type": "code",
   "execution_count": 85,
   "metadata": {},
   "outputs": [
    {
     "data": {
      "text/html": [
       "<div>\n",
       "<style scoped>\n",
       "    .dataframe tbody tr th:only-of-type {\n",
       "        vertical-align: middle;\n",
       "    }\n",
       "\n",
       "    .dataframe tbody tr th {\n",
       "        vertical-align: top;\n",
       "    }\n",
       "\n",
       "    .dataframe thead th {\n",
       "        text-align: right;\n",
       "    }\n",
       "</style>\n",
       "<table border=\"1\" class=\"dataframe\">\n",
       "  <thead>\n",
       "    <tr style=\"text-align: right;\">\n",
       "      <th></th>\n",
       "      <th>PTS</th>\n",
       "      <th>AST</th>\n",
       "      <th>TOV</th>\n",
       "      <th>FT</th>\n",
       "      <th>MP</th>\n",
       "    </tr>\n",
       "    <tr>\n",
       "      <th>Rk</th>\n",
       "      <th></th>\n",
       "      <th></th>\n",
       "      <th></th>\n",
       "      <th></th>\n",
       "      <th></th>\n",
       "    </tr>\n",
       "  </thead>\n",
       "  <tbody>\n",
       "    <tr>\n",
       "      <th>1</th>\n",
       "      <td>7.5</td>\n",
       "      <td>1.1</td>\n",
       "      <td>1.0</td>\n",
       "      <td>0.9</td>\n",
       "      <td>23.1</td>\n",
       "    </tr>\n",
       "    <tr>\n",
       "      <th>2</th>\n",
       "      <td>7.0</td>\n",
       "      <td>3.2</td>\n",
       "      <td>1.6</td>\n",
       "      <td>1.5</td>\n",
       "      <td>26.1</td>\n",
       "    </tr>\n",
       "    <tr>\n",
       "      <th>3</th>\n",
       "      <td>18.7</td>\n",
       "      <td>3.5</td>\n",
       "      <td>2.9</td>\n",
       "      <td>4.4</td>\n",
       "      <td>33.0</td>\n",
       "    </tr>\n",
       "    <tr>\n",
       "      <th>4</th>\n",
       "      <td>3.3</td>\n",
       "      <td>0.5</td>\n",
       "      <td>0.3</td>\n",
       "      <td>0.4</td>\n",
       "      <td>10.3</td>\n",
       "    </tr>\n",
       "    <tr>\n",
       "      <th>5</th>\n",
       "      <td>13.7</td>\n",
       "      <td>0.8</td>\n",
       "      <td>1.0</td>\n",
       "      <td>1.7</td>\n",
       "      <td>22.8</td>\n",
       "    </tr>\n",
       "    <tr>\n",
       "      <th>6</th>\n",
       "      <td>12.3</td>\n",
       "      <td>2.7</td>\n",
       "      <td>1.6</td>\n",
       "      <td>1.3</td>\n",
       "      <td>25.4</td>\n",
       "    </tr>\n",
       "    <tr>\n",
       "      <th>6</th>\n",
       "      <td>12.8</td>\n",
       "      <td>2.8</td>\n",
       "      <td>1.7</td>\n",
       "      <td>1.4</td>\n",
       "      <td>26.3</td>\n",
       "    </tr>\n",
       "    <tr>\n",
       "      <th>6</th>\n",
       "      <td>0.0</td>\n",
       "      <td>0.0</td>\n",
       "      <td>0.0</td>\n",
       "      <td>0.0</td>\n",
       "      <td>2.5</td>\n",
       "    </tr>\n",
       "    <tr>\n",
       "      <th>7</th>\n",
       "      <td>11.5</td>\n",
       "      <td>1.5</td>\n",
       "      <td>0.6</td>\n",
       "      <td>1.0</td>\n",
       "      <td>28.0</td>\n",
       "    </tr>\n",
       "  </tbody>\n",
       "</table>\n",
       "</div>"
      ],
      "text/plain": [
       "     PTS  AST  TOV   FT    MP\n",
       "Rk                           \n",
       "1    7.5  1.1  1.0  0.9  23.1\n",
       "2    7.0  3.2  1.6  1.5  26.1\n",
       "3   18.7  3.5  2.9  4.4  33.0\n",
       "4    3.3  0.5  0.3  0.4  10.3\n",
       "5   13.7  0.8  1.0  1.7  22.8\n",
       "6   12.3  2.7  1.6  1.3  25.4\n",
       "6   12.8  2.8  1.7  1.4  26.3\n",
       "6    0.0  0.0  0.0  0.0   2.5\n",
       "7   11.5  1.5  0.6  1.0  28.0"
      ]
     },
     "execution_count": 85,
     "metadata": {},
     "output_type": "execute_result"
    }
   ],
   "source": [
    "data = df[['PTS', 'AST', 'TOV', 'FT', 'MP']]\n",
    "data.head(9)"
   ]
  },
  {
   "cell_type": "markdown",
   "metadata": {},
   "source": [
    "All"
   ]
  },
  {
   "cell_type": "code",
   "execution_count": 86,
   "metadata": {},
   "outputs": [],
   "source": [
    "X_train, X_test, y_train, y_test = train_test_split(data[['AST', 'TOV', 'FT', 'MP']], data['PTS'], test_size=0.2, random_state=42)"
   ]
  },
  {
   "cell_type": "code",
   "execution_count": 92,
   "metadata": {},
   "outputs": [
    {
     "data": {
      "text/plain": [
       "LinearRegression()"
      ]
     },
     "execution_count": 92,
     "metadata": {},
     "output_type": "execute_result"
    }
   ],
   "source": [
    "regr = linear_model.LinearRegression()\n",
    "regr.fit(X_train, y_train)"
   ]
  },
  {
   "cell_type": "code",
   "execution_count": 93,
   "metadata": {},
   "outputs": [],
   "source": [
    "predictedPoints = regr.predict(X_test)"
   ]
  },
  {
   "cell_type": "code",
   "execution_count": 96,
   "metadata": {},
   "outputs": [
    {
     "data": {
      "text/plain": [
       "3.685354518078291"
      ]
     },
     "execution_count": 96,
     "metadata": {},
     "output_type": "execute_result"
    }
   ],
   "source": [
    "mean_squared_error(y_test, predictedPoints)"
   ]
  },
  {
   "cell_type": "code",
   "execution_count": 97,
   "metadata": {},
   "outputs": [
    {
     "data": {
      "text/plain": [
       "count    734.000000\n",
       "mean       7.727520\n",
       "std        6.265428\n",
       "min        0.000000\n",
       "25%        3.000000\n",
       "50%        6.300000\n",
       "75%       10.675000\n",
       "max       29.400000\n",
       "Name: PTS, dtype: float64"
      ]
     },
     "execution_count": 97,
     "metadata": {},
     "output_type": "execute_result"
    }
   ],
   "source": [
    "df['PTS'].describe()"
   ]
  },
  {
   "cell_type": "markdown",
   "metadata": {},
   "source": [
    "polynomial"
   ]
  },
  {
   "cell_type": "code",
   "execution_count": 131,
   "metadata": {},
   "outputs": [
    {
     "data": {
      "text/plain": [
       "LinearRegression()"
      ]
     },
     "execution_count": 131,
     "metadata": {},
     "output_type": "execute_result"
    }
   ],
   "source": [
    "poly_reg = PolynomialFeatures(degree=4)\n",
    "X_poly = poly_reg.fit_transform(X_train)\n",
    "pol_reg = linear_model.LinearRegression()\n",
    "pol_reg.fit(X_poly, y_train)"
   ]
  },
  {
   "cell_type": "code",
   "execution_count": 132,
   "metadata": {},
   "outputs": [
    {
     "data": {
      "image/png": "[encoded data removed]",
      "text/plain": [
       "<Figure size 432x288 with 1 Axes>"
      ]
     },
     "metadata": {
      "needs_background": "light"
     },
     "output_type": "display_data"
    }
   ],
   "source": [
    "def viz_polymonial():\n",
    "    plt.scatter(X_train, y_train, color='red')\n",
    "    plt.plot(X_train, pol_reg.predict(poly_reg.fit_transform(X_train)), color='blue')\n",
    "    plt.title('Truth or Bluff (Linear Regression)')\n",
    "    plt.xlabel('Position level')\n",
    "    plt.ylabel('Salary')\n",
    "    plt.show()\n",
    "    return\n",
    "viz_polymonial()"
   ]
  },
  {
   "cell_type": "markdown",
   "metadata": {},
   "source": [
    "Minutes"
   ]
  },
  {
   "cell_type": "code",
   "execution_count": 134,
   "metadata": {},
   "outputs": [],
   "source": [
    "X_train, X_test, y_train, y_test = train_test_split(data[['MP']], data['PTS'], test_size=0.2, random_state=42)"
   ]
  },
  {
   "cell_type": "code",
   "execution_count": 135,
   "metadata": {},
   "outputs": [
    {
     "data": {
      "text/plain": [
       "LinearRegression()"
      ]
     },
     "execution_count": 135,
     "metadata": {},
     "output_type": "execute_result"
    }
   ],
   "source": [
    "regr = linear_model.LinearRegression()\n",
    "regr.fit(X_train, y_train)"
   ]
  },
  {
   "cell_type": "code",
   "execution_count": 136,
   "metadata": {},
   "outputs": [],
   "source": [
    "predictedPoints = regr.predict(X_test)"
   ]
  },
  {
   "cell_type": "code",
   "execution_count": 137,
   "metadata": {},
   "outputs": [
    {
     "data": {
      "text/plain": [
       "9.2063425618497"
      ]
     },
     "execution_count": 137,
     "metadata": {},
     "output_type": "execute_result"
    }
   ],
   "source": [
    "mean_squared_error(y_test, predictedPoints)"
   ]
  },
  {
   "cell_type": "code",
   "execution_count": 148,
   "metadata": {},
   "outputs": [
    {
     "data": {
      "text/plain": [
       "LinearRegression()"
      ]
     },
     "execution_count": 148,
     "metadata": {},
     "output_type": "execute_result"
    }
   ],
   "source": [
    "poly_reg = PolynomialFeatures(degree=2)\n",
    "X_poly = poly_reg.fit_transform(X_train)\n",
    "pol_reg = linear_model.LinearRegression()\n",
    "pol_reg.fit(X_poly, y_train)"
   ]
  },
  {
   "cell_type": "code",
   "execution_count": 149,
   "metadata": {},
   "outputs": [
    {
     "data": {
      "image/png": "[encoded data removed]",
      "text/plain": [
       "<Figure size 432x288 with 1 Axes>"
      ]
     },
     "metadata": {
      "needs_background": "light"
     },
     "output_type": "display_data"
    }
   ],
   "source": [
    "def viz_polymonial():\n",
    "    plt.scatter(X_train, y_train, color='red')\n",
    "    plt.plot(X_train, pol_reg.predict(poly_reg.fit_transform(X_train)), color='blue')\n",
    "    plt.title('Truth or Bluff (Linear Regression)')\n",
    "    plt.xlabel('Position level')\n",
    "    plt.ylabel('Salary')\n",
    "    plt.show()\n",
    "    return\n",
    "viz_polymonial()"
   ]
  }
 ],
 "metadata": {
  "interpreter": {
   "hash": "1e3814919d41fe94aab296857dbfcacb89dffc95dcb6d7d1d56fb17f0308132e"
  },
  "kernelspec": {
   "display_name": "Python 3.8.3 ('base')",
   "language": "python",
   "name": "python3"
  },
  "language_info": {
   "codemirror_mode": {
    "name": "ipython",
    "version": 3
   },
   "file_extension": ".py",
   "mimetype": "text/x-python",
   "name": "python",
   "nbconvert_exporter": "python",
   "pygments_lexer": "ipython3",
   "version": "3.8.3"
  },
  "orig_nbformat": 4
 },
 "nbformat": 4,
 "nbformat_minor": 2
}
